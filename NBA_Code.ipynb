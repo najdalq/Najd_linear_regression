{
 "cells": [
  {
   "cell_type": "markdown",
   "id": "70142b57",
   "metadata": {},
   "source": [
    "# NBA linear regression"
   ]
  },
  {
   "cell_type": "markdown",
   "id": "83f4aaa9",
   "metadata": {},
   "source": [
    "#### Prepared by: Rania Almneie - Hanadi Alshahrani - Najd Alqahtani"
   ]
  },
  {
   "cell_type": "markdown",
   "id": "87b65b70",
   "metadata": {},
   "source": [
    "## Overview:"
   ]
  },
  {
   "cell_type": "markdown",
   "id": "9cbd4562",
   "metadata": {},
   "source": [
    "The National Basketball Association is a professional basketball league in North America. To measure the performance of their players and predict their future performance, statistic will help us to determine that."
   ]
  },
  {
   "cell_type": "markdown",
   "id": "d7844ce6",
   "metadata": {},
   "source": [
    "## Goal:"
   ]
  },
  {
   "cell_type": "markdown",
   "id": "ef783aa2",
   "metadata": {},
   "source": [
    "We'll use NBA season statistics to build a basic linear regression model to predict number of points for players."
   ]
  },
  {
   "cell_type": "markdown",
   "id": "2a0f5058",
   "metadata": {},
   "source": [
    "## Question:"
   ]
  },
  {
   "cell_type": "markdown",
   "id": "e8814e1f",
   "metadata": {},
   "source": [
    "Can a linear regression model predict the number of points in a future season and which features used in the model?"
   ]
  },
  {
   "cell_type": "markdown",
   "id": "9e62afca",
   "metadata": {},
   "source": [
    "## Data Description:"
   ]
  },
  {
   "cell_type": "markdown",
   "id": "5d94fb5c",
   "metadata": {},
   "source": [
    "Data was extracted from the NBA website for players composed of 536 observations and 7 features which are:\n",
    "\n",
    "* PLAYER: Player names.\n",
    "* MIN (Minutes Played): The number of minutes played by a player or team.\n",
    "* PTS (Points): The number of points scored.\n",
    "* FGM (Field Goals Made): The number of field goals that a player or team has made. This includes both 2 pointers and 3.\n",
    "* 3PM (3 Point Field Goals Made): The number of 3 point field goals that a player or team has made.\n",
    "* FTM (Free Throws Made): The number of free throws that a player or team has made.\n",
    "* FP (Fantasy Points): The number of fantasy points a player accumulates.\n",
    "\n",
    "The y-variable will be the number of points (PTS), and the x-variable will be determined by the best model\n"
   ]
  },
  {
   "cell_type": "markdown",
   "id": "ad784e9b",
   "metadata": {},
   "source": [
    "## Tools :"
   ]
  },
  {
   "cell_type": "markdown",
   "id": "ef625a9a",
   "metadata": {},
   "source": [
    "* Pandas\n",
    "* NumPy\n",
    "* Sklearn\n",
    "* seaborn\n",
    "* matplotlib\n",
    "* Selenium\n",
    "* Tableau\n",
    "* BeautifulSoup"
   ]
  },
  {
   "cell_type": "markdown",
   "id": "530b6af6",
   "metadata": {},
   "source": [
    "#### Importing Libraries : To import necessary libraries"
   ]
  },
  {
   "cell_type": "code",
   "execution_count": 1237,
   "id": "1154abf3",
   "metadata": {
    "collapsed": true,
    "scrolled": true
   },
   "outputs": [],
   "source": [
    "#For web scraping\n",
    "from selenium import webdriver\n",
    "from selenium.webdriver.support.ui import Select\n",
    "from selenium.webdriver.support.ui import WebDriverWait\n",
    "from selenium.common.exceptions import NoSuchElementException\n",
    "from bs4 import BeautifulSoup\n",
    "from time import sleep\n",
    "\n",
    "#For data manipulation\n",
    "import pandas as pd\n",
    "import numpy as np\n",
    "\n",
    "#For plot\n",
    "%matplotlib inline\n",
    "import matplotlib.pyplot as plt\n",
    "import seaborn as sns\n",
    "\n",
    "#For modeling\n",
    "from sklearn.model_selection import train_test_split\n",
    "from sklearn.linear_model import Lasso, Ridge, LinearRegression\n",
    "from sklearn import metrics\n",
    "from sklearn.pipeline import make_pipeline\n",
    "from sklearn.preprocessing import PolynomialFeatures\n",
    "from sklearn.model_selection import KFold, GridSearchCV\n",
    "from sklearn.tree import DecisionTreeClassifier"
   ]
  },
  {
   "cell_type": "markdown",
   "id": "f51e6d70",
   "metadata": {},
   "source": [
    "## 1- Web scraping (Selenium) :"
   ]
  },
  {
   "cell_type": "markdown",
   "id": "102be0c6",
   "metadata": {},
   "source": [
    "Obtain the data from NBA website :"
   ]
  },
  {
   "cell_type": "code",
   "execution_count": 1238,
   "id": "6142dfd3",
   "metadata": {
    "collapsed": true,
    "scrolled": true
   },
   "outputs": [
    {
     "name": "stderr",
     "output_type": "stream",
     "text": [
      "<ipython-input-1238-079325357cfc>:2: DeprecationWarning: executable_path has been deprecated, please pass in a Service object\n",
      "  driver = webdriver.Chrome(r\"C:\\Program Files (x86)\\Google\\Chrome\\Application\\chromedriver.exe\")\n",
      "<ipython-input-1238-079325357cfc>:9: DeprecationWarning: find_element_by_* commands are deprecated. Please use find_element() instead\n",
      "  button = driver.find_element_by_id(\"onetrust-accept-btn-handler\")\n",
      "<ipython-input-1238-079325357cfc>:17: DeprecationWarning: find_element_by_* commands are deprecated. Please use find_element() instead\n",
      "  selectOne=driver.find_element_by_xpath(\"//div[@class='stats-table-pagination__info']/select\")\n"
     ]
    }
   ],
   "source": [
    "URL = \"https://www.nba.com/stats/players/traditional/?SeasonType=Preseason&sort=PLAYER_NAME&dir=1\"\n",
    "driver = webdriver.Chrome(r\"C:\\Program Files (x86)\\Google\\Chrome\\Application\\chromedriver.exe\")\n",
    "driver.get(URL)\n",
    "\n",
    "sleep(2)\n",
    "\n",
    "try:    \n",
    "#To click Accept\n",
    " button = driver.find_element_by_id(\"onetrust-accept-btn-handler\")\n",
    " button.click()\n",
    "except:\n",
    "    pass\n",
    "\n",
    "sleep(2)\n",
    "\n",
    "#To choose (All) from dropdown list\n",
    "selectOne=driver.find_element_by_xpath(\"//div[@class='stats-table-pagination__info']/select\")\n",
    "selectTwo=Select(selectOne)\n",
    "selectTwo.select_by_visible_text('All')\n",
    "\n",
    "soup = BeautifulSoup(driver.page_source, \"lxml\")"
   ]
  },
  {
   "cell_type": "code",
   "execution_count": null,
   "id": "6f2ae18a",
   "metadata": {
    "collapsed": true,
    "scrolled": true
   },
   "outputs": [],
   "source": [
    "print(soup.prettify())"
   ]
  },
  {
   "cell_type": "markdown",
   "id": "f366ed70",
   "metadata": {},
   "source": [
    "This method is to read the statistical table from NBA website :"
   ]
  },
  {
   "cell_type": "code",
   "execution_count": 372,
   "id": "63900c40",
   "metadata": {
    "collapsed": true,
    "scrolled": true
   },
   "outputs": [],
   "source": [
    "def read_table():\n",
    " #To get all tr in one page   \n",
    " table=soup.findAll(\"tr\")\n",
    " table_data=table[1:537]\n",
    "\n",
    " #------------------------------------\n",
    "  \n",
    " columns =['PLAYER','MIN','PTS','FGM','3PM','FTM','FP']  \n",
    " # use getText()to extract the text we need into a list\n",
    " headers=[th.getText().replace('\\n','').strip() for th in table[0].findAll('th') if th.getText().replace('\\n','').strip() in columns]\n",
    "    \n",
    " #-------------------------------------\n",
    " Players=[]\n",
    " pos=[1,7,8,9,12,15,26]\n",
    " for i in range(len(table_data)):\n",
    "    \n",
    "    temp=[]\n",
    "  \n",
    "    for j,td in enumerate(table_data[i].find_all(\"td\")):\n",
    "          if j in pos:\n",
    "             temp.append(td.text.strip())\n",
    "        \n",
    "    Players.append(temp)\n",
    "    \n",
    " df=pd.DataFrame(Players,columns=headers)\n",
    " \n",
    " return df \n"
   ]
  },
  {
   "cell_type": "code",
   "execution_count": 1240,
   "id": "f84d9ec3",
   "metadata": {
    "collapsed": true,
    "scrolled": true
   },
   "outputs": [],
   "source": [
    "df_player=read_table()"
   ]
  },
  {
   "cell_type": "code",
   "execution_count": 1241,
   "id": "a2b2bed3",
   "metadata": {
    "collapsed": true,
    "scrolled": true
   },
   "outputs": [],
   "source": [
    "#To change the data type\n",
    "df_player=df_player.astype({\"PLAYER\":str,\"MIN\": float, \"PTS\": float, \"FGM\": float, \"3PM\": float, \"FTM\": float, \"FP\": float})"
   ]
  },
  {
   "cell_type": "code",
   "execution_count": 1351,
   "id": "6e683b1f",
   "metadata": {
    "scrolled": true
   },
   "outputs": [
    {
     "data": {
      "text/plain": [
       "Index(['PLAYER', 'MIN', 'PTS', 'FGM', '3PM', 'FTM', 'FP'], dtype='object')"
      ]
     },
     "execution_count": 1351,
     "metadata": {},
     "output_type": "execute_result"
    }
   ],
   "source": [
    "#To see the columns\n",
    "df_player.columns"
   ]
  },
  {
   "cell_type": "code",
   "execution_count": 378,
   "id": "833371d6",
   "metadata": {
    "collapsed": true,
    "scrolled": true
   },
   "outputs": [],
   "source": [
    "#Saving a df_player Dataframe as a CSV\n",
    "df_player.to_csv('Players_data.csv')"
   ]
  },
  {
   "cell_type": "code",
   "execution_count": 1502,
   "id": "35568392",
   "metadata": {
    "scrolled": true
   },
   "outputs": [],
   "source": [
    "#Read CSV file\n",
    "df=pd.read_csv('Players_data.csv')"
   ]
  },
  {
   "cell_type": "code",
   "execution_count": 1504,
   "id": "713d91a9",
   "metadata": {
    "scrolled": false
   },
   "outputs": [
    {
     "data": {
      "text/html": [
       "<div>\n",
       "<style scoped>\n",
       "    .dataframe tbody tr th:only-of-type {\n",
       "        vertical-align: middle;\n",
       "    }\n",
       "\n",
       "    .dataframe tbody tr th {\n",
       "        vertical-align: top;\n",
       "    }\n",
       "\n",
       "    .dataframe thead th {\n",
       "        text-align: right;\n",
       "    }\n",
       "</style>\n",
       "<table border=\"1\" class=\"dataframe\">\n",
       "  <thead>\n",
       "    <tr style=\"text-align: right;\">\n",
       "      <th></th>\n",
       "      <th>PLAYER</th>\n",
       "      <th>MIN</th>\n",
       "      <th>PTS</th>\n",
       "      <th>FGM</th>\n",
       "      <th>3PM</th>\n",
       "      <th>FTM</th>\n",
       "      <th>FP</th>\n",
       "    </tr>\n",
       "  </thead>\n",
       "  <tbody>\n",
       "    <tr>\n",
       "      <th>0</th>\n",
       "      <td>Ziaire Williams</td>\n",
       "      <td>22.8</td>\n",
       "      <td>8.2</td>\n",
       "      <td>2.6</td>\n",
       "      <td>0.6</td>\n",
       "      <td>2.4</td>\n",
       "      <td>15.7</td>\n",
       "    </tr>\n",
       "    <tr>\n",
       "      <th>1</th>\n",
       "      <td>Zeke Nnaji</td>\n",
       "      <td>14.3</td>\n",
       "      <td>3.6</td>\n",
       "      <td>1.4</td>\n",
       "      <td>0.6</td>\n",
       "      <td>0.2</td>\n",
       "      <td>10.2</td>\n",
       "    </tr>\n",
       "    <tr>\n",
       "      <th>2</th>\n",
       "      <td>Zach LaVine</td>\n",
       "      <td>29.0</td>\n",
       "      <td>22.5</td>\n",
       "      <td>7.8</td>\n",
       "      <td>2.8</td>\n",
       "      <td>4.3</td>\n",
       "      <td>33.8</td>\n",
       "    </tr>\n",
       "    <tr>\n",
       "      <th>3</th>\n",
       "      <td>Yves Pons</td>\n",
       "      <td>12.2</td>\n",
       "      <td>2.2</td>\n",
       "      <td>0.8</td>\n",
       "      <td>0.2</td>\n",
       "      <td>0.4</td>\n",
       "      <td>6.9</td>\n",
       "    </tr>\n",
       "    <tr>\n",
       "      <th>4</th>\n",
       "      <td>Yuta Watanabe</td>\n",
       "      <td>16.9</td>\n",
       "      <td>10.0</td>\n",
       "      <td>4.0</td>\n",
       "      <td>2.0</td>\n",
       "      <td>0.0</td>\n",
       "      <td>30.4</td>\n",
       "    </tr>\n",
       "    <tr>\n",
       "      <th>...</th>\n",
       "      <td>...</td>\n",
       "      <td>...</td>\n",
       "      <td>...</td>\n",
       "      <td>...</td>\n",
       "      <td>...</td>\n",
       "      <td>...</td>\n",
       "      <td>...</td>\n",
       "    </tr>\n",
       "    <tr>\n",
       "      <th>531</th>\n",
       "      <td>Aaron Holiday</td>\n",
       "      <td>16.7</td>\n",
       "      <td>9.3</td>\n",
       "      <td>3.5</td>\n",
       "      <td>0.8</td>\n",
       "      <td>1.5</td>\n",
       "      <td>18.1</td>\n",
       "    </tr>\n",
       "    <tr>\n",
       "      <th>532</th>\n",
       "      <td>Aaron Henry</td>\n",
       "      <td>12.8</td>\n",
       "      <td>2.5</td>\n",
       "      <td>1.0</td>\n",
       "      <td>0.3</td>\n",
       "      <td>0.3</td>\n",
       "      <td>11.1</td>\n",
       "    </tr>\n",
       "    <tr>\n",
       "      <th>533</th>\n",
       "      <td>Aaron Gordon</td>\n",
       "      <td>23.8</td>\n",
       "      <td>9.3</td>\n",
       "      <td>3.0</td>\n",
       "      <td>1.0</td>\n",
       "      <td>2.3</td>\n",
       "      <td>19.4</td>\n",
       "    </tr>\n",
       "    <tr>\n",
       "      <th>534</th>\n",
       "      <td>Aamir Simms</td>\n",
       "      <td>6.8</td>\n",
       "      <td>2.0</td>\n",
       "      <td>0.5</td>\n",
       "      <td>0.0</td>\n",
       "      <td>1.0</td>\n",
       "      <td>6.5</td>\n",
       "    </tr>\n",
       "    <tr>\n",
       "      <th>535</th>\n",
       "      <td>A.J. Lawson</td>\n",
       "      <td>6.9</td>\n",
       "      <td>8.0</td>\n",
       "      <td>2.0</td>\n",
       "      <td>2.0</td>\n",
       "      <td>2.0</td>\n",
       "      <td>9.4</td>\n",
       "    </tr>\n",
       "  </tbody>\n",
       "</table>\n",
       "<p>536 rows × 7 columns</p>\n",
       "</div>"
      ],
      "text/plain": [
       "              PLAYER   MIN   PTS  FGM  3PM  FTM    FP\n",
       "0    Ziaire Williams  22.8   8.2  2.6  0.6  2.4  15.7\n",
       "1         Zeke Nnaji  14.3   3.6  1.4  0.6  0.2  10.2\n",
       "2        Zach LaVine  29.0  22.5  7.8  2.8  4.3  33.8\n",
       "3          Yves Pons  12.2   2.2  0.8  0.2  0.4   6.9\n",
       "4      Yuta Watanabe  16.9  10.0  4.0  2.0  0.0  30.4\n",
       "..               ...   ...   ...  ...  ...  ...   ...\n",
       "531    Aaron Holiday  16.7   9.3  3.5  0.8  1.5  18.1\n",
       "532      Aaron Henry  12.8   2.5  1.0  0.3  0.3  11.1\n",
       "533     Aaron Gordon  23.8   9.3  3.0  1.0  2.3  19.4\n",
       "534      Aamir Simms   6.8   2.0  0.5  0.0  1.0   6.5\n",
       "535      A.J. Lawson   6.9   8.0  2.0  2.0  2.0   9.4\n",
       "\n",
       "[536 rows x 7 columns]"
      ]
     },
     "execution_count": 1504,
     "metadata": {},
     "output_type": "execute_result"
    }
   ],
   "source": [
    "df"
   ]
  },
  {
   "cell_type": "markdown",
   "id": "92afbce7",
   "metadata": {},
   "source": [
    "## 2-EDA :"
   ]
  },
  {
   "cell_type": "code",
   "execution_count": 1505,
   "id": "689ac602",
   "metadata": {
    "scrolled": true
   },
   "outputs": [
    {
     "data": {
      "text/plain": [
       "(536, 7)"
      ]
     },
     "execution_count": 1505,
     "metadata": {},
     "output_type": "execute_result"
    }
   ],
   "source": [
    "#To see the shape of df\n",
    "df.shape"
   ]
  },
  {
   "cell_type": "markdown",
   "id": "84a294e3",
   "metadata": {},
   "source": [
    "The dataset contain 536 rows and 13 columns.\n",
    "\n",
    "Let’s take a look at what our dataset actually looks like"
   ]
  },
  {
   "cell_type": "code",
   "execution_count": 1506,
   "id": "6404e260",
   "metadata": {
    "scrolled": true
   },
   "outputs": [
    {
     "data": {
      "text/html": [
       "<div>\n",
       "<style scoped>\n",
       "    .dataframe tbody tr th:only-of-type {\n",
       "        vertical-align: middle;\n",
       "    }\n",
       "\n",
       "    .dataframe tbody tr th {\n",
       "        vertical-align: top;\n",
       "    }\n",
       "\n",
       "    .dataframe thead th {\n",
       "        text-align: right;\n",
       "    }\n",
       "</style>\n",
       "<table border=\"1\" class=\"dataframe\">\n",
       "  <thead>\n",
       "    <tr style=\"text-align: right;\">\n",
       "      <th></th>\n",
       "      <th>PLAYER</th>\n",
       "      <th>MIN</th>\n",
       "      <th>PTS</th>\n",
       "      <th>FGM</th>\n",
       "      <th>3PM</th>\n",
       "      <th>FTM</th>\n",
       "      <th>FP</th>\n",
       "    </tr>\n",
       "  </thead>\n",
       "  <tbody>\n",
       "    <tr>\n",
       "      <th>0</th>\n",
       "      <td>Ziaire Williams</td>\n",
       "      <td>22.8</td>\n",
       "      <td>8.2</td>\n",
       "      <td>2.6</td>\n",
       "      <td>0.6</td>\n",
       "      <td>2.4</td>\n",
       "      <td>15.7</td>\n",
       "    </tr>\n",
       "    <tr>\n",
       "      <th>1</th>\n",
       "      <td>Zeke Nnaji</td>\n",
       "      <td>14.3</td>\n",
       "      <td>3.6</td>\n",
       "      <td>1.4</td>\n",
       "      <td>0.6</td>\n",
       "      <td>0.2</td>\n",
       "      <td>10.2</td>\n",
       "    </tr>\n",
       "    <tr>\n",
       "      <th>2</th>\n",
       "      <td>Zach LaVine</td>\n",
       "      <td>29.0</td>\n",
       "      <td>22.5</td>\n",
       "      <td>7.8</td>\n",
       "      <td>2.8</td>\n",
       "      <td>4.3</td>\n",
       "      <td>33.8</td>\n",
       "    </tr>\n",
       "    <tr>\n",
       "      <th>3</th>\n",
       "      <td>Yves Pons</td>\n",
       "      <td>12.2</td>\n",
       "      <td>2.2</td>\n",
       "      <td>0.8</td>\n",
       "      <td>0.2</td>\n",
       "      <td>0.4</td>\n",
       "      <td>6.9</td>\n",
       "    </tr>\n",
       "    <tr>\n",
       "      <th>4</th>\n",
       "      <td>Yuta Watanabe</td>\n",
       "      <td>16.9</td>\n",
       "      <td>10.0</td>\n",
       "      <td>4.0</td>\n",
       "      <td>2.0</td>\n",
       "      <td>0.0</td>\n",
       "      <td>30.4</td>\n",
       "    </tr>\n",
       "  </tbody>\n",
       "</table>\n",
       "</div>"
      ],
      "text/plain": [
       "            PLAYER   MIN   PTS  FGM  3PM  FTM    FP\n",
       "0  Ziaire Williams  22.8   8.2  2.6  0.6  2.4  15.7\n",
       "1       Zeke Nnaji  14.3   3.6  1.4  0.6  0.2  10.2\n",
       "2      Zach LaVine  29.0  22.5  7.8  2.8  4.3  33.8\n",
       "3        Yves Pons  12.2   2.2  0.8  0.2  0.4   6.9\n",
       "4    Yuta Watanabe  16.9  10.0  4.0  2.0  0.0  30.4"
      ]
     },
     "execution_count": 1506,
     "metadata": {},
     "output_type": "execute_result"
    }
   ],
   "source": [
    "#To display the first 5 rows :\n",
    "df.head()"
   ]
  },
  {
   "cell_type": "code",
   "execution_count": 1507,
   "id": "8db3b7a5",
   "metadata": {
    "scrolled": true
   },
   "outputs": [
    {
     "data": {
      "text/html": [
       "<div>\n",
       "<style scoped>\n",
       "    .dataframe tbody tr th:only-of-type {\n",
       "        vertical-align: middle;\n",
       "    }\n",
       "\n",
       "    .dataframe tbody tr th {\n",
       "        vertical-align: top;\n",
       "    }\n",
       "\n",
       "    .dataframe thead th {\n",
       "        text-align: right;\n",
       "    }\n",
       "</style>\n",
       "<table border=\"1\" class=\"dataframe\">\n",
       "  <thead>\n",
       "    <tr style=\"text-align: right;\">\n",
       "      <th></th>\n",
       "      <th>PLAYER</th>\n",
       "      <th>MIN</th>\n",
       "      <th>PTS</th>\n",
       "      <th>FGM</th>\n",
       "      <th>3PM</th>\n",
       "      <th>FTM</th>\n",
       "      <th>FP</th>\n",
       "    </tr>\n",
       "  </thead>\n",
       "  <tbody>\n",
       "    <tr>\n",
       "      <th>89</th>\n",
       "      <td>Robin Lopez</td>\n",
       "      <td>14.8</td>\n",
       "      <td>1.3</td>\n",
       "      <td>0.7</td>\n",
       "      <td>0.0</td>\n",
       "      <td>0.0</td>\n",
       "      <td>9.1</td>\n",
       "    </tr>\n",
       "    <tr>\n",
       "      <th>250</th>\n",
       "      <td>Joshua Primo</td>\n",
       "      <td>9.7</td>\n",
       "      <td>5.8</td>\n",
       "      <td>2.4</td>\n",
       "      <td>1.0</td>\n",
       "      <td>0.0</td>\n",
       "      <td>8.2</td>\n",
       "    </tr>\n",
       "    <tr>\n",
       "      <th>229</th>\n",
       "      <td>Kelly Oubre Jr.</td>\n",
       "      <td>13.6</td>\n",
       "      <td>5.0</td>\n",
       "      <td>2.0</td>\n",
       "      <td>0.0</td>\n",
       "      <td>1.0</td>\n",
       "      <td>16.4</td>\n",
       "    </tr>\n",
       "    <tr>\n",
       "      <th>422</th>\n",
       "      <td>DeMar DeRozan</td>\n",
       "      <td>29.3</td>\n",
       "      <td>16.8</td>\n",
       "      <td>6.5</td>\n",
       "      <td>0.8</td>\n",
       "      <td>3.0</td>\n",
       "      <td>25.9</td>\n",
       "    </tr>\n",
       "    <tr>\n",
       "      <th>213</th>\n",
       "      <td>Khris Middleton</td>\n",
       "      <td>21.2</td>\n",
       "      <td>19.5</td>\n",
       "      <td>7.5</td>\n",
       "      <td>2.5</td>\n",
       "      <td>2.0</td>\n",
       "      <td>30.6</td>\n",
       "    </tr>\n",
       "  </tbody>\n",
       "</table>\n",
       "</div>"
      ],
      "text/plain": [
       "              PLAYER   MIN   PTS  FGM  3PM  FTM    FP\n",
       "89       Robin Lopez  14.8   1.3  0.7  0.0  0.0   9.1\n",
       "250     Joshua Primo   9.7   5.8  2.4  1.0  0.0   8.2\n",
       "229  Kelly Oubre Jr.  13.6   5.0  2.0  0.0  1.0  16.4\n",
       "422    DeMar DeRozan  29.3  16.8  6.5  0.8  3.0  25.9\n",
       "213  Khris Middleton  21.2  19.5  7.5  2.5  2.0  30.6"
      ]
     },
     "execution_count": 1507,
     "metadata": {},
     "output_type": "execute_result"
    }
   ],
   "source": [
    "#To take a sample from df\n",
    "df.sample(5)"
   ]
  },
  {
   "cell_type": "code",
   "execution_count": 1508,
   "id": "d1791b3d",
   "metadata": {
    "scrolled": true
   },
   "outputs": [
    {
     "name": "stdout",
     "output_type": "stream",
     "text": [
      "<class 'pandas.core.frame.DataFrame'>\n",
      "RangeIndex: 536 entries, 0 to 535\n",
      "Data columns (total 7 columns):\n",
      " #   Column  Non-Null Count  Dtype  \n",
      "---  ------  --------------  -----  \n",
      " 0   PLAYER  536 non-null    object \n",
      " 1   MIN     536 non-null    float64\n",
      " 2   PTS     536 non-null    float64\n",
      " 3   FGM     536 non-null    float64\n",
      " 4   3PM     536 non-null    float64\n",
      " 5   FTM     536 non-null    float64\n",
      " 6   FP      536 non-null    float64\n",
      "dtypes: float64(6), object(1)\n",
      "memory usage: 29.4+ KB\n"
     ]
    }
   ],
   "source": [
    "#To check missings with .info()\n",
    "df.info()"
   ]
  },
  {
   "cell_type": "code",
   "execution_count": 1509,
   "id": "71fa4af6",
   "metadata": {
    "scrolled": true
   },
   "outputs": [
    {
     "data": {
      "text/plain": [
       "PLAYER    0\n",
       "MIN       0\n",
       "PTS       0\n",
       "FGM       0\n",
       "3PM       0\n",
       "FTM       0\n",
       "FP        0\n",
       "dtype: int64"
      ]
     },
     "execution_count": 1509,
     "metadata": {},
     "output_type": "execute_result"
    }
   ],
   "source": [
    "#check missings with .isna() then apply sum()\n",
    "df.isnull().sum()"
   ]
  },
  {
   "cell_type": "markdown",
   "id": "8b06c670",
   "metadata": {},
   "source": [
    "- As the result showed, there are no missing values."
   ]
  },
  {
   "cell_type": "markdown",
   "id": "9a27200d",
   "metadata": {},
   "source": [
    "- To see statistical details of the dataset, we can use df.describe()"
   ]
  },
  {
   "cell_type": "code",
   "execution_count": 1510,
   "id": "d6dfd918",
   "metadata": {
    "scrolled": true
   },
   "outputs": [
    {
     "data": {
      "text/html": [
       "<div>\n",
       "<style scoped>\n",
       "    .dataframe tbody tr th:only-of-type {\n",
       "        vertical-align: middle;\n",
       "    }\n",
       "\n",
       "    .dataframe tbody tr th {\n",
       "        vertical-align: top;\n",
       "    }\n",
       "\n",
       "    .dataframe thead th {\n",
       "        text-align: right;\n",
       "    }\n",
       "</style>\n",
       "<table border=\"1\" class=\"dataframe\">\n",
       "  <thead>\n",
       "    <tr style=\"text-align: right;\">\n",
       "      <th></th>\n",
       "      <th>MIN</th>\n",
       "      <th>PTS</th>\n",
       "      <th>FGM</th>\n",
       "      <th>3PM</th>\n",
       "      <th>FTM</th>\n",
       "      <th>FP</th>\n",
       "    </tr>\n",
       "  </thead>\n",
       "  <tbody>\n",
       "    <tr>\n",
       "      <th>count</th>\n",
       "      <td>536.000000</td>\n",
       "      <td>536.000000</td>\n",
       "      <td>536.000000</td>\n",
       "      <td>536.000000</td>\n",
       "      <td>536.000000</td>\n",
       "      <td>536.000000</td>\n",
       "    </tr>\n",
       "    <tr>\n",
       "      <th>mean</th>\n",
       "      <td>16.978358</td>\n",
       "      <td>7.646828</td>\n",
       "      <td>2.820522</td>\n",
       "      <td>0.909888</td>\n",
       "      <td>1.127612</td>\n",
       "      <td>16.069776</td>\n",
       "    </tr>\n",
       "    <tr>\n",
       "      <th>std</th>\n",
       "      <td>6.273971</td>\n",
       "      <td>4.807143</td>\n",
       "      <td>1.775437</td>\n",
       "      <td>0.915901</td>\n",
       "      <td>1.128999</td>\n",
       "      <td>8.295542</td>\n",
       "    </tr>\n",
       "    <tr>\n",
       "      <th>min</th>\n",
       "      <td>1.000000</td>\n",
       "      <td>0.000000</td>\n",
       "      <td>0.000000</td>\n",
       "      <td>0.000000</td>\n",
       "      <td>0.000000</td>\n",
       "      <td>-2.000000</td>\n",
       "    </tr>\n",
       "    <tr>\n",
       "      <th>25%</th>\n",
       "      <td>12.700000</td>\n",
       "      <td>4.000000</td>\n",
       "      <td>1.400000</td>\n",
       "      <td>0.000000</td>\n",
       "      <td>0.300000</td>\n",
       "      <td>9.775000</td>\n",
       "    </tr>\n",
       "    <tr>\n",
       "      <th>50%</th>\n",
       "      <td>17.800000</td>\n",
       "      <td>6.800000</td>\n",
       "      <td>2.500000</td>\n",
       "      <td>0.700000</td>\n",
       "      <td>1.000000</td>\n",
       "      <td>15.600000</td>\n",
       "    </tr>\n",
       "    <tr>\n",
       "      <th>75%</th>\n",
       "      <td>21.500000</td>\n",
       "      <td>10.800000</td>\n",
       "      <td>4.000000</td>\n",
       "      <td>1.300000</td>\n",
       "      <td>1.625000</td>\n",
       "      <td>21.800000</td>\n",
       "    </tr>\n",
       "    <tr>\n",
       "      <th>max</th>\n",
       "      <td>32.700000</td>\n",
       "      <td>25.000000</td>\n",
       "      <td>8.500000</td>\n",
       "      <td>4.300000</td>\n",
       "      <td>5.800000</td>\n",
       "      <td>43.600000</td>\n",
       "    </tr>\n",
       "  </tbody>\n",
       "</table>\n",
       "</div>"
      ],
      "text/plain": [
       "              MIN         PTS         FGM         3PM         FTM          FP\n",
       "count  536.000000  536.000000  536.000000  536.000000  536.000000  536.000000\n",
       "mean    16.978358    7.646828    2.820522    0.909888    1.127612   16.069776\n",
       "std      6.273971    4.807143    1.775437    0.915901    1.128999    8.295542\n",
       "min      1.000000    0.000000    0.000000    0.000000    0.000000   -2.000000\n",
       "25%     12.700000    4.000000    1.400000    0.000000    0.300000    9.775000\n",
       "50%     17.800000    6.800000    2.500000    0.700000    1.000000   15.600000\n",
       "75%     21.500000   10.800000    4.000000    1.300000    1.625000   21.800000\n",
       "max     32.700000   25.000000    8.500000    4.300000    5.800000   43.600000"
      ]
     },
     "execution_count": 1510,
     "metadata": {},
     "output_type": "execute_result"
    }
   ],
   "source": [
    "#To describe the numerical data (count,mean,std,min,25%,50%,75%,max)\n",
    "df.describe()"
   ]
  },
  {
   "cell_type": "markdown",
   "id": "95fcdd8d",
   "metadata": {},
   "source": [
    "- To check the duplicate rows :"
   ]
  },
  {
   "cell_type": "code",
   "execution_count": 1511,
   "id": "48283319",
   "metadata": {
    "scrolled": true
   },
   "outputs": [
    {
     "name": "stdout",
     "output_type": "stream",
     "text": [
      "The shape of dataframe before drop duplicates : (536, 7)\n",
      "The shape of dataframe after drop duplicates : (536, 7)\n"
     ]
    }
   ],
   "source": [
    "df2=df.drop_duplicates(subset=[\"PLAYER\"])\n",
    "print(f\"The shape of dataframe before drop duplicates : {df.shape}\")\n",
    "print(f\"The shape of dataframe after drop duplicates : {df2.shape}\")"
   ]
  },
  {
   "cell_type": "markdown",
   "id": "dc2d5254",
   "metadata": {},
   "source": [
    "- As the result showed, there are no duplicate rows "
   ]
  },
  {
   "cell_type": "markdown",
   "id": "c764f138",
   "metadata": {},
   "source": [
    "- To see the outliers :"
   ]
  },
  {
   "cell_type": "code",
   "execution_count": 1512,
   "id": "a2c7e059",
   "metadata": {
    "scrolled": true
   },
   "outputs": [
    {
     "data": {
      "image/png": "[encoded data removed]",
      "text/plain": [
       "<Figure size 432x288 with 1 Axes>"
      ]
     },
     "metadata": {},
     "output_type": "display_data"
    }
   ],
   "source": [
    "sns.boxplot(data=df)\n",
    "plt.xticks(rotation=90);\n",
    "plt.title(\"Outliers\");"
   ]
  },
  {
   "cell_type": "markdown",
   "id": "fce2e0e8",
   "metadata": {},
   "source": [
    "- This method is to handle the outliers by using the IQR :"
   ]
  },
  {
   "cell_type": "code",
   "execution_count": 1513,
   "id": "54f05fbf",
   "metadata": {
    "scrolled": true
   },
   "outputs": [],
   "source": [
    "def handle_outlier_IQR(df):\n",
    "    Q1=df.quantile(0.25)\n",
    "    Q3=df.quantile(0.75)\n",
    "    IQR=Q3-Q1\n",
    "    mean=df.mean()\n",
    "    df_new=df.map(lambda x:x if (x>= Q1 - 1.5 * IQR) & (x <= Q3 + 1.5 *IQR) else mean)\n",
    "    return df_new"
   ]
  },
  {
   "cell_type": "code",
   "execution_count": 1514,
   "id": "81955c36",
   "metadata": {
    "scrolled": true
   },
   "outputs": [],
   "source": [
    "df[\"PTS\"]=handle_outlier_IQR(df['PTS'])\n",
    "df[\"FGM\"]=handle_outlier_IQR(df['FGM'])\n",
    "df[\"3PM\"]=handle_outlier_IQR(df['3PM'])\n",
    "df[\"FTM\"]=handle_outlier_IQR(df['FTM'])\n",
    "df[\"FP\"]=handle_outlier_IQR(df['FP'])"
   ]
  },
  {
   "cell_type": "code",
   "execution_count": 1515,
   "id": "ac7e8843",
   "metadata": {
    "scrolled": true
   },
   "outputs": [
    {
     "data": {
      "image/png": "[encoded data removed]",
      "text/plain": [
       "<Figure size 432x288 with 1 Axes>"
      ]
     },
     "metadata": {},
     "output_type": "display_data"
    }
   ],
   "source": [
    "sns.boxplot(data=df)\n",
    "plt.xticks(rotation=90);\n",
    "plt.title(\"After handling outliers\");"
   ]
  },
  {
   "cell_type": "markdown",
   "id": "51977039",
   "metadata": {},
   "source": [
    "* To see the distribution of PTS :"
   ]
  },
  {
   "cell_type": "code",
   "execution_count": 1516,
   "id": "48e7a031",
   "metadata": {
    "scrolled": true
   },
   "outputs": [
    {
     "data": {
      "image/png": "[encoded data removed]",
      "text/plain": [
       "<Figure size 720x360 with 1 Axes>"
      ]
     },
     "metadata": {},
     "output_type": "display_data"
    }
   ],
   "source": [
    "plt.figure(figsize=(10,5))\n",
    "plt.hist(df.PTS)\n",
    "plt.title('The Distribution of PTS (Points of player)');\n",
    "plt.xlabel(\"PTS\");"
   ]
  },
  {
   "cell_type": "markdown",
   "id": "3892f2a1",
   "metadata": {},
   "source": [
    "* To see the distribution of MIN :"
   ]
  },
  {
   "cell_type": "code",
   "execution_count": 1517,
   "id": "16b385fa",
   "metadata": {
    "scrolled": true
   },
   "outputs": [
    {
     "data": {
      "image/png": "[encoded data removed]",
      "text/plain": [
       "<Figure size 720x360 with 1 Axes>"
      ]
     },
     "metadata": {},
     "output_type": "display_data"
    }
   ],
   "source": [
    "plt.figure(figsize=(10,5))\n",
    "plt.hist(df.MIN)\n",
    "plt.title('The Distribution of MIN (Minutes Played)');\n",
    "plt.xlabel(\"MIN\");"
   ]
  },
  {
   "cell_type": "markdown",
   "id": "02854388",
   "metadata": {},
   "source": [
    "* To see the distribution of FGM :"
   ]
  },
  {
   "cell_type": "code",
   "execution_count": 1518,
   "id": "9957ad6d",
   "metadata": {
    "scrolled": true
   },
   "outputs": [
    {
     "data": {
      "image/png": "[encoded data removed]",
      "text/plain": [
       "<Figure size 720x360 with 1 Axes>"
      ]
     },
     "metadata": {},
     "output_type": "display_data"
    }
   ],
   "source": [
    "plt.figure(figsize=(10,5))\n",
    "plt.hist(df.FGM)\n",
    "plt.title('The Distribution of FGM (Field Goals Made)')\n",
    "plt.xlabel(\"FGM\");"
   ]
  },
  {
   "cell_type": "markdown",
   "id": "00cde0d1",
   "metadata": {},
   "source": [
    "* To see the distribution of 3PM :"
   ]
  },
  {
   "cell_type": "code",
   "execution_count": 1519,
   "id": "b91889bb",
   "metadata": {
    "scrolled": true
   },
   "outputs": [
    {
     "data": {
      "image/png": "[encoded data removed]",
      "text/plain": [
       "<Figure size 720x360 with 1 Axes>"
      ]
     },
     "metadata": {},
     "output_type": "display_data"
    }
   ],
   "source": [
    "plt.figure(figsize=(10,5))\n",
    "plt.hist(df['3PM'])\n",
    "plt.title('The Distribution of 3PM (3 Point Field Goals Made)')\n",
    "plt.xlabel(\"3PM\");"
   ]
  },
  {
   "cell_type": "markdown",
   "id": "26464de9",
   "metadata": {},
   "source": [
    "* To see the distribution of FTM :"
   ]
  },
  {
   "cell_type": "code",
   "execution_count": 1520,
   "id": "5c035370",
   "metadata": {
    "scrolled": true
   },
   "outputs": [
    {
     "data": {
      "image/png": "[encoded data removed]",
      "text/plain": [
       "<Figure size 720x360 with 1 Axes>"
      ]
     },
     "metadata": {},
     "output_type": "display_data"
    }
   ],
   "source": [
    "plt.figure(figsize=(10,5))\n",
    "plt.hist(df.FTM)\n",
    "plt.title('The Distribution of FTM (Free Throws Made)')\n",
    "plt.xlabel(\"FTM\");"
   ]
  },
  {
   "cell_type": "markdown",
   "id": "46315d0a",
   "metadata": {},
   "source": [
    "* To see the distribution of FP :"
   ]
  },
  {
   "cell_type": "code",
   "execution_count": 1521,
   "id": "51266762",
   "metadata": {
    "scrolled": true
   },
   "outputs": [
    {
     "data": {
      "image/png": "[encoded data removed]",
      "text/plain": [
       "<Figure size 720x360 with 1 Axes>"
      ]
     },
     "metadata": {},
     "output_type": "display_data"
    }
   ],
   "source": [
    "plt.figure(figsize=(10,5))\n",
    "plt.hist(df.FP)\n",
    "plt.title('The Distribution of FP (Fantasy Points)')\n",
    "plt.xlabel(\"FP\");"
   ]
  },
  {
   "cell_type": "markdown",
   "id": "ebf8b569",
   "metadata": {},
   "source": [
    "* In addition, we used **Tableau** to depict the distribution of all features. All figures are saved in the **Distribution** folder."
   ]
  },
  {
   "cell_type": "markdown",
   "id": "38f9d856",
   "metadata": {},
   "source": [
    "Now we have ideas about the details of data statistics."
   ]
  },
  {
   "cell_type": "markdown",
   "id": "2d35ede6",
   "metadata": {},
   "source": [
    "## 3- Build a Simple Linear Regression Model : "
   ]
  },
  {
   "cell_type": "markdown",
   "id": "4f14ffcd",
   "metadata": {},
   "source": [
    "The term “linearity” in algebra refers to a linear relationship between two or more variables.\n",
    "\n",
    "We know that the formula of a regression line is basically: y = mx + b\n",
    "where :\n",
    "* y is the predicted target label\n",
    "* m is the slope of the line \n",
    "* b is the y intercept."
   ]
  },
  {
   "cell_type": "markdown",
   "id": "9b7c3120",
   "metadata": {},
   "source": [
    "As the first step, we split the data into two sets :\n",
    "- Training set.\n",
    "- Test set. \n",
    "\n",
    "let’s keep it simple and use a 80/20 rule. The input variables can be split like so:"
   ]
  },
  {
   "cell_type": "code",
   "execution_count": 1522,
   "id": "5243556c",
   "metadata": {
    "scrolled": true
   },
   "outputs": [],
   "source": [
    "train_set,test_set=train_test_split(df, train_size=0.8, random_state=42, shuffle=True)"
   ]
  },
  {
   "cell_type": "markdown",
   "id": "b0ed85f5",
   "metadata": {},
   "source": [
    "As the second step, we split the train set into two sets :\n",
    "- Train set.\n",
    "- Validation set."
   ]
  },
  {
   "cell_type": "code",
   "execution_count": 1523,
   "id": "e0edce31",
   "metadata": {
    "scrolled": true
   },
   "outputs": [],
   "source": [
    "train_set,val_set=train_test_split(train_set, train_size=0.75, random_state=42, shuffle=True)"
   ]
  },
  {
   "cell_type": "code",
   "execution_count": 1524,
   "id": "33a55070",
   "metadata": {
    "scrolled": true
   },
   "outputs": [
    {
     "data": {
      "text/plain": [
       "(321, 7)"
      ]
     },
     "execution_count": 1524,
     "metadata": {},
     "output_type": "execute_result"
    }
   ],
   "source": [
    "train_set.shape"
   ]
  },
  {
   "cell_type": "code",
   "execution_count": 1525,
   "id": "ac3507d0",
   "metadata": {
    "scrolled": true
   },
   "outputs": [
    {
     "data": {
      "text/plain": [
       "(107, 7)"
      ]
     },
     "execution_count": 1525,
     "metadata": {},
     "output_type": "execute_result"
    }
   ],
   "source": [
    "val_set.shape"
   ]
  },
  {
   "cell_type": "code",
   "execution_count": 1526,
   "id": "bc5e2984",
   "metadata": {
    "scrolled": true
   },
   "outputs": [
    {
     "data": {
      "text/plain": [
       "(108, 7)"
      ]
     },
     "execution_count": 1526,
     "metadata": {},
     "output_type": "execute_result"
    }
   ],
   "source": [
    "test_set.shape"
   ]
  },
  {
   "cell_type": "markdown",
   "id": "bf62d0a5",
   "metadata": {},
   "source": [
    "The above script splits 80% of the data to training set while 20% of the data to test set . And then splits 25% of training set to validation set. "
   ]
  },
  {
   "cell_type": "markdown",
   "id": "7519fd1f",
   "metadata": {},
   "source": [
    "* Let’s pause for a second to check the correlation between the different variables."
   ]
  },
  {
   "cell_type": "code",
   "execution_count": 1527,
   "id": "dd5ca20a",
   "metadata": {
    "scrolled": true
   },
   "outputs": [
    {
     "data": {
      "text/html": [
       "<div>\n",
       "<style scoped>\n",
       "    .dataframe tbody tr th:only-of-type {\n",
       "        vertical-align: middle;\n",
       "    }\n",
       "\n",
       "    .dataframe tbody tr th {\n",
       "        vertical-align: top;\n",
       "    }\n",
       "\n",
       "    .dataframe thead th {\n",
       "        text-align: right;\n",
       "    }\n",
       "</style>\n",
       "<table border=\"1\" class=\"dataframe\">\n",
       "  <thead>\n",
       "    <tr style=\"text-align: right;\">\n",
       "      <th></th>\n",
       "      <th>MIN</th>\n",
       "      <th>PTS</th>\n",
       "      <th>FGM</th>\n",
       "      <th>3PM</th>\n",
       "      <th>FTM</th>\n",
       "      <th>FP</th>\n",
       "    </tr>\n",
       "  </thead>\n",
       "  <tbody>\n",
       "    <tr>\n",
       "      <th>MIN</th>\n",
       "      <td>1.000000</td>\n",
       "      <td>0.736639</td>\n",
       "      <td>0.710911</td>\n",
       "      <td>0.530353</td>\n",
       "      <td>0.448168</td>\n",
       "      <td>0.791102</td>\n",
       "    </tr>\n",
       "    <tr>\n",
       "      <th>PTS</th>\n",
       "      <td>0.736639</td>\n",
       "      <td>1.000000</td>\n",
       "      <td>0.975618</td>\n",
       "      <td>0.591827</td>\n",
       "      <td>0.597428</td>\n",
       "      <td>0.851849</td>\n",
       "    </tr>\n",
       "    <tr>\n",
       "      <th>FGM</th>\n",
       "      <td>0.710911</td>\n",
       "      <td>0.975618</td>\n",
       "      <td>1.000000</td>\n",
       "      <td>0.521554</td>\n",
       "      <td>0.505321</td>\n",
       "      <td>0.853146</td>\n",
       "    </tr>\n",
       "    <tr>\n",
       "      <th>3PM</th>\n",
       "      <td>0.530353</td>\n",
       "      <td>0.591827</td>\n",
       "      <td>0.521554</td>\n",
       "      <td>1.000000</td>\n",
       "      <td>0.129669</td>\n",
       "      <td>0.439401</td>\n",
       "    </tr>\n",
       "    <tr>\n",
       "      <th>FTM</th>\n",
       "      <td>0.448168</td>\n",
       "      <td>0.597428</td>\n",
       "      <td>0.505321</td>\n",
       "      <td>0.129669</td>\n",
       "      <td>1.000000</td>\n",
       "      <td>0.588098</td>\n",
       "    </tr>\n",
       "    <tr>\n",
       "      <th>FP</th>\n",
       "      <td>0.791102</td>\n",
       "      <td>0.851849</td>\n",
       "      <td>0.853146</td>\n",
       "      <td>0.439401</td>\n",
       "      <td>0.588098</td>\n",
       "      <td>1.000000</td>\n",
       "    </tr>\n",
       "  </tbody>\n",
       "</table>\n",
       "</div>"
      ],
      "text/plain": [
       "          MIN       PTS       FGM       3PM       FTM        FP\n",
       "MIN  1.000000  0.736639  0.710911  0.530353  0.448168  0.791102\n",
       "PTS  0.736639  1.000000  0.975618  0.591827  0.597428  0.851849\n",
       "FGM  0.710911  0.975618  1.000000  0.521554  0.505321  0.853146\n",
       "3PM  0.530353  0.591827  0.521554  1.000000  0.129669  0.439401\n",
       "FTM  0.448168  0.597428  0.505321  0.129669  1.000000  0.588098\n",
       "FP   0.791102  0.851849  0.853146  0.439401  0.588098  1.000000"
      ]
     },
     "execution_count": 1527,
     "metadata": {},
     "output_type": "execute_result"
    }
   ],
   "source": [
    "# View the correlations\n",
    "df_corr=train_set.corr()\n",
    "df_corr"
   ]
  },
  {
   "cell_type": "markdown",
   "id": "f1a47a7a",
   "metadata": {},
   "source": [
    "* Let's draw a heatmap of correlations with the numeric values in each cell."
   ]
  },
  {
   "cell_type": "code",
   "execution_count": 1528,
   "id": "9f1de6a0",
   "metadata": {
    "scrolled": false
   },
   "outputs": [
    {
     "data": {
      "image/png": "[encoded data removed]",
      "text/plain": [
       "<Figure size 720x720 with 2 Axes>"
      ]
     },
     "metadata": {},
     "output_type": "display_data"
    }
   ],
   "source": [
    "# View the correlations\n",
    "array = np.array(df_corr.applymap(lambda x:str(round(x,2))))\n",
    "sns.set() \n",
    "sns.set_style(\"white\")\n",
    "f, ax = plt.subplots(figsize=(10, 10))\n",
    "sns.heatmap(df_corr, annot=array, linewidths=1, ax=ax,cmap=\"Blues\",fmt='',linecolor='white',mask=np.triu(df_corr,k=1))\n",
    "plt.yticks(rotation=0)  \n",
    "plt.title('Correlations',weight='bold',fontsize=15)\n",
    "plt.savefig('heatmap_regression.png',transparent=True, bbox_inches='tight')"
   ]
  },
  {
   "cell_type": "markdown",
   "id": "f7d55e03",
   "metadata": {},
   "source": [
    "Consider a PTS as a target, and as the independent variable, we will experiment with various variables depend on the highest correlation: \n",
    "\n",
    "- FGM\n",
    "- MIN\n",
    "- FP\n",
    "- 3PM\n",
    "- FTM\n",
    "    "
   ]
  },
  {
   "cell_type": "markdown",
   "id": "20bf629e",
   "metadata": {},
   "source": [
    "Let's try to visualize these correlations all together by using the seaborn pairplot function :"
   ]
  },
  {
   "cell_type": "code",
   "execution_count": 1529,
   "id": "d6a3d5ad",
   "metadata": {
    "scrolled": false
   },
   "outputs": [
    {
     "data": {
      "image/png": "[encoded data removed]",
      "text/plain": [
       "<Figure size 1080x1080 with 42 Axes>"
      ]
     },
     "metadata": {},
     "output_type": "display_data"
    }
   ],
   "source": [
    "#Plot all of the variable-to-variable relations as scatterplots\n",
    "sns.set()\n",
    "sns.pairplot(train_set,height=2.5);\n"
   ]
  },
  {
   "cell_type": "markdown",
   "id": "15dc9c1a",
   "metadata": {},
   "source": [
    "Let's try to visualize these correlations all together agaist PTS :"
   ]
  },
  {
   "cell_type": "code",
   "execution_count": 1598,
   "id": "9cfc0f77",
   "metadata": {
    "scrolled": true
   },
   "outputs": [
    {
     "data": {
      "image/png": "[encoded data removed]",
      "text/plain": [
       "<Figure size 1728x230.4 with 5 Axes>"
      ]
     },
     "metadata": {},
     "output_type": "display_data"
    }
   ],
   "source": [
    "sns.pairplot(train_set,x_vars=['MIN','FGM','3PM','FTM','FP'],y_vars='PTS', height=3.2, aspect=1.5)\n",
    "plt.savefig('last_Pair.png')"
   ]
  },
  {
   "cell_type": "markdown",
   "id": "36fc484b",
   "metadata": {},
   "source": [
    "The next step is to divide the data into “attributes” and “target labels”. Attributes are independent variables, and target labels are dependent variables whose values ​​are to be predicted"
   ]
  },
  {
   "cell_type": "markdown",
   "id": "7cc2f7ec",
   "metadata": {},
   "source": [
    "* Train set :"
   ]
  },
  {
   "cell_type": "code",
   "execution_count": 1531,
   "id": "38e97c6a",
   "metadata": {
    "scrolled": true
   },
   "outputs": [],
   "source": [
    "x_train=train_set[['MIN','FGM','3PM','FTM','FP']]\n",
    "y_train=train_set[['PTS']]"
   ]
  },
  {
   "cell_type": "code",
   "execution_count": 1532,
   "id": "d06478fa",
   "metadata": {
    "scrolled": false
   },
   "outputs": [
    {
     "data": {
      "text/html": [
       "<div>\n",
       "<style scoped>\n",
       "    .dataframe tbody tr th:only-of-type {\n",
       "        vertical-align: middle;\n",
       "    }\n",
       "\n",
       "    .dataframe tbody tr th {\n",
       "        vertical-align: top;\n",
       "    }\n",
       "\n",
       "    .dataframe thead th {\n",
       "        text-align: right;\n",
       "    }\n",
       "</style>\n",
       "<table border=\"1\" class=\"dataframe\">\n",
       "  <thead>\n",
       "    <tr style=\"text-align: right;\">\n",
       "      <th></th>\n",
       "      <th>MIN</th>\n",
       "      <th>FGM</th>\n",
       "      <th>3PM</th>\n",
       "      <th>FTM</th>\n",
       "      <th>FP</th>\n",
       "    </tr>\n",
       "  </thead>\n",
       "  <tbody>\n",
       "    <tr>\n",
       "      <th>62</th>\n",
       "      <td>23.5</td>\n",
       "      <td>4.5</td>\n",
       "      <td>1.8</td>\n",
       "      <td>2.8</td>\n",
       "      <td>24.2</td>\n",
       "    </tr>\n",
       "    <tr>\n",
       "      <th>149</th>\n",
       "      <td>20.7</td>\n",
       "      <td>4.5</td>\n",
       "      <td>1.3</td>\n",
       "      <td>1.3</td>\n",
       "      <td>31.4</td>\n",
       "    </tr>\n",
       "    <tr>\n",
       "      <th>124</th>\n",
       "      <td>12.9</td>\n",
       "      <td>3.0</td>\n",
       "      <td>0.4</td>\n",
       "      <td>0.8</td>\n",
       "      <td>18.0</td>\n",
       "    </tr>\n",
       "    <tr>\n",
       "      <th>295</th>\n",
       "      <td>13.8</td>\n",
       "      <td>0.5</td>\n",
       "      <td>0.0</td>\n",
       "      <td>0.5</td>\n",
       "      <td>5.2</td>\n",
       "    </tr>\n",
       "    <tr>\n",
       "      <th>406</th>\n",
       "      <td>21.3</td>\n",
       "      <td>3.4</td>\n",
       "      <td>1.0</td>\n",
       "      <td>1.4</td>\n",
       "      <td>20.1</td>\n",
       "    </tr>\n",
       "    <tr>\n",
       "      <th>...</th>\n",
       "      <td>...</td>\n",
       "      <td>...</td>\n",
       "      <td>...</td>\n",
       "      <td>...</td>\n",
       "      <td>...</td>\n",
       "    </tr>\n",
       "    <tr>\n",
       "      <th>116</th>\n",
       "      <td>13.7</td>\n",
       "      <td>1.5</td>\n",
       "      <td>0.5</td>\n",
       "      <td>0.0</td>\n",
       "      <td>7.3</td>\n",
       "    </tr>\n",
       "    <tr>\n",
       "      <th>414</th>\n",
       "      <td>12.8</td>\n",
       "      <td>0.7</td>\n",
       "      <td>0.3</td>\n",
       "      <td>1.0</td>\n",
       "      <td>6.5</td>\n",
       "    </tr>\n",
       "    <tr>\n",
       "      <th>422</th>\n",
       "      <td>29.3</td>\n",
       "      <td>6.5</td>\n",
       "      <td>0.8</td>\n",
       "      <td>3.0</td>\n",
       "      <td>25.9</td>\n",
       "    </tr>\n",
       "    <tr>\n",
       "      <th>389</th>\n",
       "      <td>21.1</td>\n",
       "      <td>2.7</td>\n",
       "      <td>1.7</td>\n",
       "      <td>0.7</td>\n",
       "      <td>17.4</td>\n",
       "    </tr>\n",
       "    <tr>\n",
       "      <th>395</th>\n",
       "      <td>17.5</td>\n",
       "      <td>2.2</td>\n",
       "      <td>0.2</td>\n",
       "      <td>2.0</td>\n",
       "      <td>21.1</td>\n",
       "    </tr>\n",
       "  </tbody>\n",
       "</table>\n",
       "<p>321 rows × 5 columns</p>\n",
       "</div>"
      ],
      "text/plain": [
       "      MIN  FGM  3PM  FTM    FP\n",
       "62   23.5  4.5  1.8  2.8  24.2\n",
       "149  20.7  4.5  1.3  1.3  31.4\n",
       "124  12.9  3.0  0.4  0.8  18.0\n",
       "295  13.8  0.5  0.0  0.5   5.2\n",
       "406  21.3  3.4  1.0  1.4  20.1\n",
       "..    ...  ...  ...  ...   ...\n",
       "116  13.7  1.5  0.5  0.0   7.3\n",
       "414  12.8  0.7  0.3  1.0   6.5\n",
       "422  29.3  6.5  0.8  3.0  25.9\n",
       "389  21.1  2.7  1.7  0.7  17.4\n",
       "395  17.5  2.2  0.2  2.0  21.1\n",
       "\n",
       "[321 rows x 5 columns]"
      ]
     },
     "execution_count": 1532,
     "metadata": {},
     "output_type": "execute_result"
    }
   ],
   "source": [
    "x_train"
   ]
  },
  {
   "cell_type": "code",
   "execution_count": 1533,
   "id": "a202a1af",
   "metadata": {
    "scrolled": false
   },
   "outputs": [
    {
     "data": {
      "text/html": [
       "<div>\n",
       "<style scoped>\n",
       "    .dataframe tbody tr th:only-of-type {\n",
       "        vertical-align: middle;\n",
       "    }\n",
       "\n",
       "    .dataframe tbody tr th {\n",
       "        vertical-align: top;\n",
       "    }\n",
       "\n",
       "    .dataframe thead th {\n",
       "        text-align: right;\n",
       "    }\n",
       "</style>\n",
       "<table border=\"1\" class=\"dataframe\">\n",
       "  <thead>\n",
       "    <tr style=\"text-align: right;\">\n",
       "      <th></th>\n",
       "      <th>PTS</th>\n",
       "    </tr>\n",
       "  </thead>\n",
       "  <tbody>\n",
       "    <tr>\n",
       "      <th>62</th>\n",
       "      <td>13.5</td>\n",
       "    </tr>\n",
       "    <tr>\n",
       "      <th>149</th>\n",
       "      <td>11.5</td>\n",
       "    </tr>\n",
       "    <tr>\n",
       "      <th>124</th>\n",
       "      <td>7.2</td>\n",
       "    </tr>\n",
       "    <tr>\n",
       "      <th>295</th>\n",
       "      <td>1.5</td>\n",
       "    </tr>\n",
       "    <tr>\n",
       "      <th>406</th>\n",
       "      <td>9.2</td>\n",
       "    </tr>\n",
       "    <tr>\n",
       "      <th>...</th>\n",
       "      <td>...</td>\n",
       "    </tr>\n",
       "    <tr>\n",
       "      <th>116</th>\n",
       "      <td>3.5</td>\n",
       "    </tr>\n",
       "    <tr>\n",
       "      <th>414</th>\n",
       "      <td>2.7</td>\n",
       "    </tr>\n",
       "    <tr>\n",
       "      <th>422</th>\n",
       "      <td>16.8</td>\n",
       "    </tr>\n",
       "    <tr>\n",
       "      <th>389</th>\n",
       "      <td>7.7</td>\n",
       "    </tr>\n",
       "    <tr>\n",
       "      <th>395</th>\n",
       "      <td>6.6</td>\n",
       "    </tr>\n",
       "  </tbody>\n",
       "</table>\n",
       "<p>321 rows × 1 columns</p>\n",
       "</div>"
      ],
      "text/plain": [
       "      PTS\n",
       "62   13.5\n",
       "149  11.5\n",
       "124   7.2\n",
       "295   1.5\n",
       "406   9.2\n",
       "..    ...\n",
       "116   3.5\n",
       "414   2.7\n",
       "422  16.8\n",
       "389   7.7\n",
       "395   6.6\n",
       "\n",
       "[321 rows x 1 columns]"
      ]
     },
     "execution_count": 1533,
     "metadata": {},
     "output_type": "execute_result"
    }
   ],
   "source": [
    "y_train"
   ]
  },
  {
   "cell_type": "markdown",
   "id": "f1c3e088",
   "metadata": {},
   "source": [
    "* Validation set :"
   ]
  },
  {
   "cell_type": "code",
   "execution_count": 1534,
   "id": "4e4f6a07",
   "metadata": {
    "scrolled": true
   },
   "outputs": [],
   "source": [
    "x_val=val_set[['MIN','FGM','3PM','FTM','FP']]\n",
    "y_val=val_set[['PTS']]"
   ]
  },
  {
   "cell_type": "code",
   "execution_count": 1535,
   "id": "bb27f19c",
   "metadata": {
    "scrolled": false
   },
   "outputs": [
    {
     "data": {
      "text/html": [
       "<div>\n",
       "<style scoped>\n",
       "    .dataframe tbody tr th:only-of-type {\n",
       "        vertical-align: middle;\n",
       "    }\n",
       "\n",
       "    .dataframe tbody tr th {\n",
       "        vertical-align: top;\n",
       "    }\n",
       "\n",
       "    .dataframe thead th {\n",
       "        text-align: right;\n",
       "    }\n",
       "</style>\n",
       "<table border=\"1\" class=\"dataframe\">\n",
       "  <thead>\n",
       "    <tr style=\"text-align: right;\">\n",
       "      <th></th>\n",
       "      <th>MIN</th>\n",
       "      <th>FGM</th>\n",
       "      <th>3PM</th>\n",
       "      <th>FTM</th>\n",
       "      <th>FP</th>\n",
       "    </tr>\n",
       "  </thead>\n",
       "  <tbody>\n",
       "    <tr>\n",
       "      <th>466</th>\n",
       "      <td>23.1</td>\n",
       "      <td>5.5</td>\n",
       "      <td>1.5</td>\n",
       "      <td>1.300000</td>\n",
       "      <td>24.0</td>\n",
       "    </tr>\n",
       "    <tr>\n",
       "      <th>16</th>\n",
       "      <td>13.4</td>\n",
       "      <td>0.0</td>\n",
       "      <td>0.0</td>\n",
       "      <td>1.000000</td>\n",
       "      <td>15.3</td>\n",
       "    </tr>\n",
       "    <tr>\n",
       "      <th>96</th>\n",
       "      <td>6.8</td>\n",
       "      <td>0.5</td>\n",
       "      <td>0.0</td>\n",
       "      <td>3.000000</td>\n",
       "      <td>6.2</td>\n",
       "    </tr>\n",
       "    <tr>\n",
       "      <th>19</th>\n",
       "      <td>21.8</td>\n",
       "      <td>6.0</td>\n",
       "      <td>1.0</td>\n",
       "      <td>0.300000</td>\n",
       "      <td>20.9</td>\n",
       "    </tr>\n",
       "    <tr>\n",
       "      <th>366</th>\n",
       "      <td>19.0</td>\n",
       "      <td>2.0</td>\n",
       "      <td>1.0</td>\n",
       "      <td>0.800000</td>\n",
       "      <td>15.3</td>\n",
       "    </tr>\n",
       "    <tr>\n",
       "      <th>...</th>\n",
       "      <td>...</td>\n",
       "      <td>...</td>\n",
       "      <td>...</td>\n",
       "      <td>...</td>\n",
       "      <td>...</td>\n",
       "    </tr>\n",
       "    <tr>\n",
       "      <th>241</th>\n",
       "      <td>19.2</td>\n",
       "      <td>2.0</td>\n",
       "      <td>0.3</td>\n",
       "      <td>0.000000</td>\n",
       "      <td>13.4</td>\n",
       "    </tr>\n",
       "    <tr>\n",
       "      <th>41</th>\n",
       "      <td>19.1</td>\n",
       "      <td>3.7</td>\n",
       "      <td>2.3</td>\n",
       "      <td>1.300000</td>\n",
       "      <td>21.0</td>\n",
       "    </tr>\n",
       "    <tr>\n",
       "      <th>447</th>\n",
       "      <td>21.0</td>\n",
       "      <td>5.5</td>\n",
       "      <td>3.0</td>\n",
       "      <td>1.500000</td>\n",
       "      <td>19.6</td>\n",
       "    </tr>\n",
       "    <tr>\n",
       "      <th>58</th>\n",
       "      <td>23.9</td>\n",
       "      <td>4.5</td>\n",
       "      <td>0.0</td>\n",
       "      <td>1.800000</td>\n",
       "      <td>26.8</td>\n",
       "    </tr>\n",
       "    <tr>\n",
       "      <th>83</th>\n",
       "      <td>20.0</td>\n",
       "      <td>4.5</td>\n",
       "      <td>0.0</td>\n",
       "      <td>1.127612</td>\n",
       "      <td>34.7</td>\n",
       "    </tr>\n",
       "  </tbody>\n",
       "</table>\n",
       "<p>107 rows × 5 columns</p>\n",
       "</div>"
      ],
      "text/plain": [
       "      MIN  FGM  3PM       FTM    FP\n",
       "466  23.1  5.5  1.5  1.300000  24.0\n",
       "16   13.4  0.0  0.0  1.000000  15.3\n",
       "96    6.8  0.5  0.0  3.000000   6.2\n",
       "19   21.8  6.0  1.0  0.300000  20.9\n",
       "366  19.0  2.0  1.0  0.800000  15.3\n",
       "..    ...  ...  ...       ...   ...\n",
       "241  19.2  2.0  0.3  0.000000  13.4\n",
       "41   19.1  3.7  2.3  1.300000  21.0\n",
       "447  21.0  5.5  3.0  1.500000  19.6\n",
       "58   23.9  4.5  0.0  1.800000  26.8\n",
       "83   20.0  4.5  0.0  1.127612  34.7\n",
       "\n",
       "[107 rows x 5 columns]"
      ]
     },
     "execution_count": 1535,
     "metadata": {},
     "output_type": "execute_result"
    }
   ],
   "source": [
    "x_val"
   ]
  },
  {
   "cell_type": "code",
   "execution_count": 1536,
   "id": "fac4a393",
   "metadata": {
    "scrolled": false
   },
   "outputs": [
    {
     "data": {
      "text/html": [
       "<div>\n",
       "<style scoped>\n",
       "    .dataframe tbody tr th:only-of-type {\n",
       "        vertical-align: middle;\n",
       "    }\n",
       "\n",
       "    .dataframe tbody tr th {\n",
       "        vertical-align: top;\n",
       "    }\n",
       "\n",
       "    .dataframe thead th {\n",
       "        text-align: right;\n",
       "    }\n",
       "</style>\n",
       "<table border=\"1\" class=\"dataframe\">\n",
       "  <thead>\n",
       "    <tr style=\"text-align: right;\">\n",
       "      <th></th>\n",
       "      <th>PTS</th>\n",
       "    </tr>\n",
       "  </thead>\n",
       "  <tbody>\n",
       "    <tr>\n",
       "      <th>466</th>\n",
       "      <td>13.8</td>\n",
       "    </tr>\n",
       "    <tr>\n",
       "      <th>16</th>\n",
       "      <td>1.0</td>\n",
       "    </tr>\n",
       "    <tr>\n",
       "      <th>96</th>\n",
       "      <td>4.0</td>\n",
       "    </tr>\n",
       "    <tr>\n",
       "      <th>19</th>\n",
       "      <td>13.3</td>\n",
       "    </tr>\n",
       "    <tr>\n",
       "      <th>366</th>\n",
       "      <td>5.8</td>\n",
       "    </tr>\n",
       "    <tr>\n",
       "      <th>...</th>\n",
       "      <td>...</td>\n",
       "    </tr>\n",
       "    <tr>\n",
       "      <th>241</th>\n",
       "      <td>4.3</td>\n",
       "    </tr>\n",
       "    <tr>\n",
       "      <th>41</th>\n",
       "      <td>11.0</td>\n",
       "    </tr>\n",
       "    <tr>\n",
       "      <th>447</th>\n",
       "      <td>15.5</td>\n",
       "    </tr>\n",
       "    <tr>\n",
       "      <th>58</th>\n",
       "      <td>10.8</td>\n",
       "    </tr>\n",
       "    <tr>\n",
       "      <th>83</th>\n",
       "      <td>13.0</td>\n",
       "    </tr>\n",
       "  </tbody>\n",
       "</table>\n",
       "<p>107 rows × 1 columns</p>\n",
       "</div>"
      ],
      "text/plain": [
       "      PTS\n",
       "466  13.8\n",
       "16    1.0\n",
       "96    4.0\n",
       "19   13.3\n",
       "366   5.8\n",
       "..    ...\n",
       "241   4.3\n",
       "41   11.0\n",
       "447  15.5\n",
       "58   10.8\n",
       "83   13.0\n",
       "\n",
       "[107 rows x 1 columns]"
      ]
     },
     "execution_count": 1536,
     "metadata": {},
     "output_type": "execute_result"
    }
   ],
   "source": [
    "y_val"
   ]
  },
  {
   "cell_type": "markdown",
   "id": "f9183fca",
   "metadata": {},
   "source": [
    "* Test set :"
   ]
  },
  {
   "cell_type": "code",
   "execution_count": 1537,
   "id": "5084bb7e",
   "metadata": {
    "scrolled": true
   },
   "outputs": [],
   "source": [
    "x_test=test_set[['MIN','FGM','3PM','FTM','FP']]\n",
    "y_test=test_set[['PTS']]"
   ]
  },
  {
   "cell_type": "code",
   "execution_count": 1538,
   "id": "0f7b6ae9",
   "metadata": {
    "scrolled": false
   },
   "outputs": [
    {
     "data": {
      "text/html": [
       "<div>\n",
       "<style scoped>\n",
       "    .dataframe tbody tr th:only-of-type {\n",
       "        vertical-align: middle;\n",
       "    }\n",
       "\n",
       "    .dataframe tbody tr th {\n",
       "        vertical-align: top;\n",
       "    }\n",
       "\n",
       "    .dataframe thead th {\n",
       "        text-align: right;\n",
       "    }\n",
       "</style>\n",
       "<table border=\"1\" class=\"dataframe\">\n",
       "  <thead>\n",
       "    <tr style=\"text-align: right;\">\n",
       "      <th></th>\n",
       "      <th>MIN</th>\n",
       "      <th>FGM</th>\n",
       "      <th>3PM</th>\n",
       "      <th>FTM</th>\n",
       "      <th>FP</th>\n",
       "    </tr>\n",
       "  </thead>\n",
       "  <tbody>\n",
       "    <tr>\n",
       "      <th>117</th>\n",
       "      <td>18.4</td>\n",
       "      <td>2.0</td>\n",
       "      <td>0.7</td>\n",
       "      <td>0.700000</td>\n",
       "      <td>18.6</td>\n",
       "    </tr>\n",
       "    <tr>\n",
       "      <th>132</th>\n",
       "      <td>13.8</td>\n",
       "      <td>1.5</td>\n",
       "      <td>0.0</td>\n",
       "      <td>0.800000</td>\n",
       "      <td>10.1</td>\n",
       "    </tr>\n",
       "    <tr>\n",
       "      <th>154</th>\n",
       "      <td>22.4</td>\n",
       "      <td>4.8</td>\n",
       "      <td>1.3</td>\n",
       "      <td>1.500000</td>\n",
       "      <td>23.1</td>\n",
       "    </tr>\n",
       "    <tr>\n",
       "      <th>245</th>\n",
       "      <td>18.4</td>\n",
       "      <td>2.8</td>\n",
       "      <td>0.6</td>\n",
       "      <td>1.200000</td>\n",
       "      <td>22.3</td>\n",
       "    </tr>\n",
       "    <tr>\n",
       "      <th>84</th>\n",
       "      <td>18.5</td>\n",
       "      <td>2.5</td>\n",
       "      <td>0.8</td>\n",
       "      <td>0.500000</td>\n",
       "      <td>16.5</td>\n",
       "    </tr>\n",
       "    <tr>\n",
       "      <th>...</th>\n",
       "      <td>...</td>\n",
       "      <td>...</td>\n",
       "      <td>...</td>\n",
       "      <td>...</td>\n",
       "      <td>...</td>\n",
       "    </tr>\n",
       "    <tr>\n",
       "      <th>375</th>\n",
       "      <td>21.8</td>\n",
       "      <td>0.8</td>\n",
       "      <td>0.6</td>\n",
       "      <td>1.200000</td>\n",
       "      <td>14.0</td>\n",
       "    </tr>\n",
       "    <tr>\n",
       "      <th>368</th>\n",
       "      <td>7.6</td>\n",
       "      <td>0.4</td>\n",
       "      <td>0.0</td>\n",
       "      <td>0.200000</td>\n",
       "      <td>5.3</td>\n",
       "    </tr>\n",
       "    <tr>\n",
       "      <th>535</th>\n",
       "      <td>6.9</td>\n",
       "      <td>2.0</td>\n",
       "      <td>2.0</td>\n",
       "      <td>2.000000</td>\n",
       "      <td>9.4</td>\n",
       "    </tr>\n",
       "    <tr>\n",
       "      <th>384</th>\n",
       "      <td>3.5</td>\n",
       "      <td>1.0</td>\n",
       "      <td>0.0</td>\n",
       "      <td>0.000000</td>\n",
       "      <td>2.0</td>\n",
       "    </tr>\n",
       "    <tr>\n",
       "      <th>284</th>\n",
       "      <td>28.4</td>\n",
       "      <td>5.8</td>\n",
       "      <td>1.5</td>\n",
       "      <td>1.127612</td>\n",
       "      <td>27.9</td>\n",
       "    </tr>\n",
       "  </tbody>\n",
       "</table>\n",
       "<p>108 rows × 5 columns</p>\n",
       "</div>"
      ],
      "text/plain": [
       "      MIN  FGM  3PM       FTM    FP\n",
       "117  18.4  2.0  0.7  0.700000  18.6\n",
       "132  13.8  1.5  0.0  0.800000  10.1\n",
       "154  22.4  4.8  1.3  1.500000  23.1\n",
       "245  18.4  2.8  0.6  1.200000  22.3\n",
       "84   18.5  2.5  0.8  0.500000  16.5\n",
       "..    ...  ...  ...       ...   ...\n",
       "375  21.8  0.8  0.6  1.200000  14.0\n",
       "368   7.6  0.4  0.0  0.200000   5.3\n",
       "535   6.9  2.0  2.0  2.000000   9.4\n",
       "384   3.5  1.0  0.0  0.000000   2.0\n",
       "284  28.4  5.8  1.5  1.127612  27.9\n",
       "\n",
       "[108 rows x 5 columns]"
      ]
     },
     "execution_count": 1538,
     "metadata": {},
     "output_type": "execute_result"
    }
   ],
   "source": [
    "x_test"
   ]
  },
  {
   "cell_type": "code",
   "execution_count": 1539,
   "id": "62f75dea",
   "metadata": {
    "scrolled": false
   },
   "outputs": [
    {
     "data": {
      "text/html": [
       "<div>\n",
       "<style scoped>\n",
       "    .dataframe tbody tr th:only-of-type {\n",
       "        vertical-align: middle;\n",
       "    }\n",
       "\n",
       "    .dataframe tbody tr th {\n",
       "        vertical-align: top;\n",
       "    }\n",
       "\n",
       "    .dataframe thead th {\n",
       "        text-align: right;\n",
       "    }\n",
       "</style>\n",
       "<table border=\"1\" class=\"dataframe\">\n",
       "  <thead>\n",
       "    <tr style=\"text-align: right;\">\n",
       "      <th></th>\n",
       "      <th>PTS</th>\n",
       "    </tr>\n",
       "  </thead>\n",
       "  <tbody>\n",
       "    <tr>\n",
       "      <th>117</th>\n",
       "      <td>5.3</td>\n",
       "    </tr>\n",
       "    <tr>\n",
       "      <th>132</th>\n",
       "      <td>3.8</td>\n",
       "    </tr>\n",
       "    <tr>\n",
       "      <th>154</th>\n",
       "      <td>12.3</td>\n",
       "    </tr>\n",
       "    <tr>\n",
       "      <th>245</th>\n",
       "      <td>7.4</td>\n",
       "    </tr>\n",
       "    <tr>\n",
       "      <th>84</th>\n",
       "      <td>6.3</td>\n",
       "    </tr>\n",
       "    <tr>\n",
       "      <th>...</th>\n",
       "      <td>...</td>\n",
       "    </tr>\n",
       "    <tr>\n",
       "      <th>375</th>\n",
       "      <td>3.4</td>\n",
       "    </tr>\n",
       "    <tr>\n",
       "      <th>368</th>\n",
       "      <td>1.0</td>\n",
       "    </tr>\n",
       "    <tr>\n",
       "      <th>535</th>\n",
       "      <td>8.0</td>\n",
       "    </tr>\n",
       "    <tr>\n",
       "      <th>384</th>\n",
       "      <td>2.0</td>\n",
       "    </tr>\n",
       "    <tr>\n",
       "      <th>284</th>\n",
       "      <td>18.5</td>\n",
       "    </tr>\n",
       "  </tbody>\n",
       "</table>\n",
       "<p>108 rows × 1 columns</p>\n",
       "</div>"
      ],
      "text/plain": [
       "      PTS\n",
       "117   5.3\n",
       "132   3.8\n",
       "154  12.3\n",
       "245   7.4\n",
       "84    6.3\n",
       "..    ...\n",
       "375   3.4\n",
       "368   1.0\n",
       "535   8.0\n",
       "384   2.0\n",
       "284  18.5\n",
       "\n",
       "[108 rows x 1 columns]"
      ]
     },
     "execution_count": 1539,
     "metadata": {},
     "output_type": "execute_result"
    }
   ],
   "source": [
    "y_test"
   ]
  },
  {
   "cell_type": "markdown",
   "id": "91601181",
   "metadata": {},
   "source": [
    "Now is finally the time to train our model. Execute following script:"
   ]
  },
  {
   "cell_type": "markdown",
   "id": "35573ea2",
   "metadata": {},
   "source": [
    "### Linear regression"
   ]
  },
  {
   "cell_type": "code",
   "execution_count": 1540,
   "id": "3b6a82c7",
   "metadata": {
    "scrolled": true
   },
   "outputs": [],
   "source": [
    "def LinearReg(X_train, Y_train, X_val, Y_val,X_test,Y_test):\n",
    "    #Create model\n",
    "    m = LinearRegression()\n",
    "    #Fit the first model to the training set\n",
    "    m.fit(X_train, Y_train)\n",
    "    #Predict y on the validation set\n",
    "    y_val_pred = m.predict(X_val)\n",
    "    #To see the R sequare\n",
    "    RSquared = m.score(X_val, Y_val)\n",
    "    #To see the MAE\n",
    "    MAE= metrics.mean_absolute_error(Y_val, y_val_pred)\n",
    "    #To see the MSE\n",
    "    MSE= metrics.mean_squared_error(Y_val, y_val_pred)\n",
    "    #To see the RMSE\n",
    "    RMSE= np.sqrt(MSE)\n",
    "    \n",
    "    #-----------------For testing----------------------------\n",
    "    \n",
    "    y_test_pred=m.predict(X_test)\n",
    "    #To see the R sequare (test)\n",
    "    RSquaredTest = m.score(X_test, Y_test)\n",
    "    #To see the MAE (test)\n",
    "    MAE_test= metrics.mean_absolute_error(Y_test, y_test_pred)\n",
    "    #To see the MSE (test)\n",
    "    MSE_test= metrics.mean_squared_error(Y_test, y_test_pred)\n",
    "    #To see the RMSE (test)\n",
    "    RMSE_test= np.sqrt(MSE_test)\n",
    "    \n",
    "    return [RSquared, MAE, MSE, RMSE,y_val_pred,RSquaredTest,MAE_test,MSE_test,RMSE_test,y_test_pred]"
   ]
  },
  {
   "cell_type": "markdown",
   "id": "128c7d53",
   "metadata": {},
   "source": [
    "* Model 1 : X ----> MIN:"
   ]
  },
  {
   "cell_type": "code",
   "execution_count": 1541,
   "id": "980ab547",
   "metadata": {
    "scrolled": true
   },
   "outputs": [],
   "source": [
    "model1=LinearReg(x_train[['MIN']], y_train, x_val[['MIN']], y_val,x_test[['MIN']],y_test)"
   ]
  },
  {
   "cell_type": "code",
   "execution_count": 1542,
   "id": "4e8184bb",
   "metadata": {
    "scrolled": true
   },
   "outputs": [
    {
     "data": {
      "image/png": "[encoded data removed]",
      "text/plain": [
       "<Figure size 432x288 with 1 Axes>"
      ]
     },
     "metadata": {},
     "output_type": "display_data"
    }
   ],
   "source": [
    "sns.regplot(x=y_val,y=model1[4],ci=None,color='b');"
   ]
  },
  {
   "cell_type": "markdown",
   "id": "d40419e0",
   "metadata": {},
   "source": [
    "* Model 2 : X ----> FGM :"
   ]
  },
  {
   "cell_type": "code",
   "execution_count": 1543,
   "id": "971def9f",
   "metadata": {
    "scrolled": true
   },
   "outputs": [],
   "source": [
    "model2=LinearReg(x_train[['FGM']], y_train, x_val[['FGM']], y_val,x_test[['FGM']],y_test)"
   ]
  },
  {
   "cell_type": "code",
   "execution_count": 1544,
   "id": "bd03f82a",
   "metadata": {
    "scrolled": true
   },
   "outputs": [
    {
     "data": {
      "image/png": "[encoded data removed]",
      "text/plain": [
       "<Figure size 432x288 with 1 Axes>"
      ]
     },
     "metadata": {},
     "output_type": "display_data"
    }
   ],
   "source": [
    "sns.regplot(x=y_val,y=model2[4],ci=None,color='b');"
   ]
  },
  {
   "cell_type": "markdown",
   "id": "ad25534b",
   "metadata": {},
   "source": [
    "* Model 3 : X ----> 3PM :"
   ]
  },
  {
   "cell_type": "code",
   "execution_count": 1547,
   "id": "edeff618",
   "metadata": {
    "scrolled": true
   },
   "outputs": [],
   "source": [
    "model3=LinearReg(x_train[['3PM']], y_train, x_val[['3PM']], y_val,x_test[['3PM']],y_test)"
   ]
  },
  {
   "cell_type": "code",
   "execution_count": 1548,
   "id": "b3ae4023",
   "metadata": {
    "scrolled": true
   },
   "outputs": [
    {
     "data": {
      "image/png": "[encoded data removed]",
      "text/plain": [
       "<Figure size 432x288 with 1 Axes>"
      ]
     },
     "metadata": {},
     "output_type": "display_data"
    }
   ],
   "source": [
    "sns.regplot(x=y_val,y=model3[4],ci=None,color='b');"
   ]
  },
  {
   "cell_type": "markdown",
   "id": "46fbfa9e",
   "metadata": {},
   "source": [
    "* Model 4 : X ----> FTM :"
   ]
  },
  {
   "cell_type": "code",
   "execution_count": 1549,
   "id": "bf16eb9b",
   "metadata": {
    "scrolled": true
   },
   "outputs": [],
   "source": [
    "model4=LinearReg(x_train[['FTM']], y_train, x_val[['FTM']], y_val,x_test[['FTM']],y_test)"
   ]
  },
  {
   "cell_type": "code",
   "execution_count": 1550,
   "id": "cfcca24d",
   "metadata": {
    "scrolled": true
   },
   "outputs": [
    {
     "data": {
      "image/png": "[encoded data removed]",
      "text/plain": [
       "<Figure size 432x288 with 1 Axes>"
      ]
     },
     "metadata": {},
     "output_type": "display_data"
    }
   ],
   "source": [
    "sns.regplot(x=y_val,y=model4[4],ci=None,color='b');"
   ]
  },
  {
   "cell_type": "markdown",
   "id": "8fdb66c7",
   "metadata": {},
   "source": [
    "* Model 5 : X ----> FP :"
   ]
  },
  {
   "cell_type": "code",
   "execution_count": 1551,
   "id": "799f5c0c",
   "metadata": {
    "scrolled": true
   },
   "outputs": [],
   "source": [
    "model5=LinearReg(x_train[['FP']],y_train, x_val[['FP']], y_val,x_test[['FP']],y_test)"
   ]
  },
  {
   "cell_type": "code",
   "execution_count": 1552,
   "id": "fbb65dbe",
   "metadata": {
    "scrolled": true
   },
   "outputs": [
    {
     "data": {
      "image/png": "[encoded data removed]",
      "text/plain": [
       "<Figure size 432x288 with 1 Axes>"
      ]
     },
     "metadata": {},
     "output_type": "display_data"
    }
   ],
   "source": [
    "sns.regplot(x=y_val,y=model5[4],ci=None,color='b');"
   ]
  },
  {
   "cell_type": "markdown",
   "id": "bda0b1bc",
   "metadata": {},
   "source": [
    "* Model 6 : X ----> All features:"
   ]
  },
  {
   "cell_type": "code",
   "execution_count": 1553,
   "id": "7bc95612",
   "metadata": {
    "scrolled": true
   },
   "outputs": [],
   "source": [
    "model6=LinearReg(x_train[['FGM','FP','MIN','3PM','FTM']],y_train, x_val[['FGM','FP','MIN','3PM','FTM']], y_val,x_test[['FGM','FP','MIN','3PM','FTM']],y_test)"
   ]
  },
  {
   "cell_type": "code",
   "execution_count": 1599,
   "id": "edcc6097",
   "metadata": {
    "scrolled": true
   },
   "outputs": [
    {
     "data": {
      "image/png": "[encoded data removed]",
      "text/plain": [
       "<Figure size 432x288 with 1 Axes>"
      ]
     },
     "metadata": {},
     "output_type": "display_data"
    }
   ],
   "source": [
    "sns.regplot(x=y_val,y=model6[4],ci=None,color='b');\n",
    "plt.savefig('regPlot_v.png',transparent=True, bbox_inches='tight')"
   ]
  },
  {
   "cell_type": "markdown",
   "id": "c2b4e39c",
   "metadata": {},
   "source": [
    "* Model 7 : X ----> FGM & FP:"
   ]
  },
  {
   "cell_type": "code",
   "execution_count": 1555,
   "id": "ad32cdbd",
   "metadata": {
    "scrolled": true
   },
   "outputs": [],
   "source": [
    "model7=LinearReg(x_train[['FGM','FP']], y_train, x_val[['FGM','FP']], y_val,x_test[['FGM','FP']],y_test)"
   ]
  },
  {
   "cell_type": "code",
   "execution_count": 1556,
   "id": "3bd76115",
   "metadata": {
    "scrolled": true
   },
   "outputs": [
    {
     "data": {
      "image/png": "[encoded data removed]",
      "text/plain": [
       "<Figure size 432x288 with 1 Axes>"
      ]
     },
     "metadata": {},
     "output_type": "display_data"
    }
   ],
   "source": [
    "sns.regplot(x=y_val,y=model7[4],ci=None,color='b');"
   ]
  },
  {
   "cell_type": "markdown",
   "id": "0e9b34b8",
   "metadata": {},
   "source": [
    "* Model 8 : X ----> FGM & FP & MIN :"
   ]
  },
  {
   "cell_type": "code",
   "execution_count": 1557,
   "id": "c157d219",
   "metadata": {
    "scrolled": true
   },
   "outputs": [],
   "source": [
    "model8=LinearReg(x_train[['FGM','FP','MIN']],y_train, x_val[['FGM','FP','MIN']], y_val,x_test[['FGM','FP','MIN']],y_test)"
   ]
  },
  {
   "cell_type": "code",
   "execution_count": 1558,
   "id": "b21bca4c",
   "metadata": {
    "scrolled": true
   },
   "outputs": [
    {
     "data": {
      "image/png": "[encoded data removed]",
      "text/plain": [
       "<Figure size 432x288 with 1 Axes>"
      ]
     },
     "metadata": {},
     "output_type": "display_data"
    }
   ],
   "source": [
    "sns.regplot(x=y_val,y=model8[4],ci=None,color='b');"
   ]
  },
  {
   "cell_type": "markdown",
   "id": "f6d376a1",
   "metadata": {},
   "source": [
    "* Model 9 : X ----> FGM & FP & MIN & 3PM :"
   ]
  },
  {
   "cell_type": "code",
   "execution_count": 1559,
   "id": "1cb5c183",
   "metadata": {
    "scrolled": true
   },
   "outputs": [],
   "source": [
    "model9=LinearReg(x_train[['FGM','FP','MIN','3PM']],y_train, x_val[['FGM','FP','MIN','3PM']], y_val,x_test[['FGM','FP','MIN','3PM']],y_test)"
   ]
  },
  {
   "cell_type": "code",
   "execution_count": 1560,
   "id": "ceaada06",
   "metadata": {
    "scrolled": true
   },
   "outputs": [
    {
     "data": {
      "image/png": "[encoded data removed]",
      "text/plain": [
       "<Figure size 432x288 with 1 Axes>"
      ]
     },
     "metadata": {},
     "output_type": "display_data"
    }
   ],
   "source": [
    "sns.regplot(x=y_val,y=model9[4],ci=None,color='b');"
   ]
  },
  {
   "cell_type": "markdown",
   "id": "f4f190e5",
   "metadata": {},
   "source": [
    "* Let's see which the best model?"
   ]
  },
  {
   "cell_type": "code",
   "execution_count": 1561,
   "id": "821e76f2",
   "metadata": {
    "scrolled": true
   },
   "outputs": [
    {
     "data": {
      "text/html": [
       "<div>\n",
       "<style scoped>\n",
       "    .dataframe tbody tr th:only-of-type {\n",
       "        vertical-align: middle;\n",
       "    }\n",
       "\n",
       "    .dataframe tbody tr th {\n",
       "        vertical-align: top;\n",
       "    }\n",
       "\n",
       "    .dataframe thead th {\n",
       "        text-align: right;\n",
       "    }\n",
       "</style>\n",
       "<table border=\"1\" class=\"dataframe\">\n",
       "  <thead>\n",
       "    <tr style=\"text-align: right;\">\n",
       "      <th></th>\n",
       "      <th>R Squared</th>\n",
       "      <th>MAE</th>\n",
       "      <th>MSE</th>\n",
       "      <th>RMSE</th>\n",
       "    </tr>\n",
       "  </thead>\n",
       "  <tbody>\n",
       "    <tr>\n",
       "      <th>Linear Regression :M1</th>\n",
       "      <td>0.440002</td>\n",
       "      <td>2.762713</td>\n",
       "      <td>11.693917</td>\n",
       "      <td>3.419637</td>\n",
       "    </tr>\n",
       "    <tr>\n",
       "      <th>Linear Regression :M2</th>\n",
       "      <td>0.932539</td>\n",
       "      <td>0.894579</td>\n",
       "      <td>1.408732</td>\n",
       "      <td>1.186900</td>\n",
       "    </tr>\n",
       "    <tr>\n",
       "      <th>Linear Regression :M3</th>\n",
       "      <td>0.217894</td>\n",
       "      <td>3.076238</td>\n",
       "      <td>16.331983</td>\n",
       "      <td>4.041285</td>\n",
       "    </tr>\n",
       "    <tr>\n",
       "      <th>Linear Regression :M4</th>\n",
       "      <td>0.209180</td>\n",
       "      <td>3.332269</td>\n",
       "      <td>16.513945</td>\n",
       "      <td>4.063735</td>\n",
       "    </tr>\n",
       "    <tr>\n",
       "      <th>Linear Regression :M5</th>\n",
       "      <td>0.623489</td>\n",
       "      <td>2.027554</td>\n",
       "      <td>7.862318</td>\n",
       "      <td>2.803983</td>\n",
       "    </tr>\n",
       "    <tr>\n",
       "      <th>Linear Regression :M6</th>\n",
       "      <td>0.946808</td>\n",
       "      <td>0.529868</td>\n",
       "      <td>1.110750</td>\n",
       "      <td>1.053921</td>\n",
       "    </tr>\n",
       "    <tr>\n",
       "      <th>Linear Regression :M7</th>\n",
       "      <td>0.935802</td>\n",
       "      <td>0.891730</td>\n",
       "      <td>1.340594</td>\n",
       "      <td>1.157840</td>\n",
       "    </tr>\n",
       "    <tr>\n",
       "      <th>Linear Regression :M8</th>\n",
       "      <td>0.931737</td>\n",
       "      <td>0.927569</td>\n",
       "      <td>1.425462</td>\n",
       "      <td>1.193927</td>\n",
       "    </tr>\n",
       "    <tr>\n",
       "      <th>Linear Regression :M9</th>\n",
       "      <td>0.936611</td>\n",
       "      <td>0.833512</td>\n",
       "      <td>1.323683</td>\n",
       "      <td>1.150514</td>\n",
       "    </tr>\n",
       "  </tbody>\n",
       "</table>\n",
       "</div>"
      ],
      "text/plain": [
       "                       R Squared       MAE        MSE      RMSE\n",
       "Linear Regression :M1   0.440002  2.762713  11.693917  3.419637\n",
       "Linear Regression :M2   0.932539  0.894579   1.408732  1.186900\n",
       "Linear Regression :M3   0.217894  3.076238  16.331983  4.041285\n",
       "Linear Regression :M4   0.209180  3.332269  16.513945  4.063735\n",
       "Linear Regression :M5   0.623489  2.027554   7.862318  2.803983\n",
       "Linear Regression :M6   0.946808  0.529868   1.110750  1.053921\n",
       "Linear Regression :M7   0.935802  0.891730   1.340594  1.157840\n",
       "Linear Regression :M8   0.931737  0.927569   1.425462  1.193927\n",
       "Linear Regression :M9   0.936611  0.833512   1.323683  1.150514"
      ]
     },
     "execution_count": 1561,
     "metadata": {},
     "output_type": "execute_result"
    }
   ],
   "source": [
    "models= pd.DataFrame(data = [model1[:4], model2[:4], model3[:4], model4[:4], model5[:4],model6[:4],model7[:4],model8[:4],model9[:4]], columns=['R Squared','MAE','MSE','RMSE'],index = ['Linear Regression :M1', 'Linear Regression :M2', 'Linear Regression :M3', 'Linear Regression :M4', 'Linear Regression :M5', 'Linear Regression :M6', 'Linear Regression :M7', 'Linear Regression :M8', 'Linear Regression :M9'])\n",
    "models"
   ]
  },
  {
   "cell_type": "code",
   "execution_count": 1562,
   "id": "57d7a332",
   "metadata": {
    "scrolled": true
   },
   "outputs": [],
   "source": [
    "best=[models['R Squared'].max(),models['MAE'].min(),models['MSE'].min(),models['RMSE'].min()]"
   ]
  },
  {
   "cell_type": "code",
   "execution_count": 1563,
   "id": "9b3e73d9",
   "metadata": {
    "scrolled": true
   },
   "outputs": [
    {
     "data": {
      "text/html": [
       "<div>\n",
       "<style scoped>\n",
       "    .dataframe tbody tr th:only-of-type {\n",
       "        vertical-align: middle;\n",
       "    }\n",
       "\n",
       "    .dataframe tbody tr th {\n",
       "        vertical-align: top;\n",
       "    }\n",
       "\n",
       "    .dataframe thead th {\n",
       "        text-align: right;\n",
       "    }\n",
       "</style>\n",
       "<table border=\"1\" class=\"dataframe\">\n",
       "  <thead>\n",
       "    <tr style=\"text-align: right;\">\n",
       "      <th></th>\n",
       "      <th>R Squared</th>\n",
       "      <th>MAE</th>\n",
       "      <th>MSE</th>\n",
       "      <th>RMSE</th>\n",
       "    </tr>\n",
       "  </thead>\n",
       "  <tbody>\n",
       "    <tr>\n",
       "      <th>Linear Regression :M6</th>\n",
       "      <td>0.946808</td>\n",
       "      <td>0.529868</td>\n",
       "      <td>1.11075</td>\n",
       "      <td>1.053921</td>\n",
       "    </tr>\n",
       "  </tbody>\n",
       "</table>\n",
       "</div>"
      ],
      "text/plain": [
       "                       R Squared       MAE      MSE      RMSE\n",
       "Linear Regression :M6   0.946808  0.529868  1.11075  1.053921"
      ]
     },
     "execution_count": 1563,
     "metadata": {},
     "output_type": "execute_result"
    }
   ],
   "source": [
    "Best_model= pd.DataFrame(data=[best],columns=['R Squared','MAE','MSE','RMSE'],index=[models['R Squared'].idxmax(axis = 0)])\n",
    "Best_model"
   ]
  },
  {
   "cell_type": "markdown",
   "id": "9946ef20",
   "metadata": {},
   "source": [
    "###### As shown the best model is model 6 which have All features (MIN , FGM , 3PM , FTM , FP) "
   ]
  },
  {
   "cell_type": "markdown",
   "id": "630a8d28",
   "metadata": {},
   "source": [
    "### Polynomial Transformation"
   ]
  },
  {
   "cell_type": "code",
   "execution_count": 1564,
   "id": "e48fab2b",
   "metadata": {
    "scrolled": true
   },
   "outputs": [],
   "source": [
    "def poly(X_train, Y_train, X_val, Y_val, deg):\n",
    "    #Create model\n",
    "    model = make_pipeline(PolynomialFeatures(deg), LinearRegression())\n",
    "    #Fit the model to the training set\n",
    "    model.fit(X_train, Y_train)\n",
    "    #Predict y on the validation set\n",
    "    Y_pred = model.predict(X_val)\n",
    "    #To see the R sequare\n",
    "    RSquared2= model.score(X_val, Y_val)\n",
    "    #To see the MAE\n",
    "    MAE2= metrics.mean_absolute_error(Y_val, Y_pred)\n",
    "    #To see the MSE\n",
    "    MSE2= metrics.mean_squared_error(Y_val, Y_pred)\n",
    "    #To see the RMSE\n",
    "    RMSE2= np.sqrt(MSE2)\n",
    "\n",
    "    return [RSquared2, MAE2, MSE2, RMSE2]"
   ]
  },
  {
   "cell_type": "code",
   "execution_count": 1565,
   "id": "ca59d0d7",
   "metadata": {
    "scrolled": true
   },
   "outputs": [],
   "source": [
    "#All features with Polynomial Transformation\n",
    "model10=poly(x_train.iloc[:, :], y_train, x_val.iloc[:,:], y_val,2)"
   ]
  },
  {
   "cell_type": "code",
   "execution_count": 1566,
   "id": "42484131",
   "metadata": {
    "scrolled": true
   },
   "outputs": [
    {
     "data": {
      "text/html": [
       "<div>\n",
       "<style scoped>\n",
       "    .dataframe tbody tr th:only-of-type {\n",
       "        vertical-align: middle;\n",
       "    }\n",
       "\n",
       "    .dataframe tbody tr th {\n",
       "        vertical-align: top;\n",
       "    }\n",
       "\n",
       "    .dataframe thead th {\n",
       "        text-align: right;\n",
       "    }\n",
       "</style>\n",
       "<table border=\"1\" class=\"dataframe\">\n",
       "  <thead>\n",
       "    <tr style=\"text-align: right;\">\n",
       "      <th></th>\n",
       "      <th>R Squared</th>\n",
       "      <th>MAE</th>\n",
       "      <th>MSE</th>\n",
       "      <th>RMSE</th>\n",
       "    </tr>\n",
       "  </thead>\n",
       "  <tbody>\n",
       "    <tr>\n",
       "      <th>Linear Regression :M6</th>\n",
       "      <td>0.946808</td>\n",
       "      <td>0.529868</td>\n",
       "      <td>1.110750</td>\n",
       "      <td>1.053921</td>\n",
       "    </tr>\n",
       "    <tr>\n",
       "      <th>Polynomial Features</th>\n",
       "      <td>0.943589</td>\n",
       "      <td>0.553953</td>\n",
       "      <td>1.177971</td>\n",
       "      <td>1.085344</td>\n",
       "    </tr>\n",
       "  </tbody>\n",
       "</table>\n",
       "</div>"
      ],
      "text/plain": [
       "                       R Squared       MAE       MSE      RMSE\n",
       "Linear Regression :M6   0.946808  0.529868  1.110750  1.053921\n",
       "Polynomial Features     0.943589  0.553953  1.177971  1.085344"
      ]
     },
     "execution_count": 1566,
     "metadata": {},
     "output_type": "execute_result"
    }
   ],
   "source": [
    "poly=pd.DataFrame(data = [model10], columns=['R Squared','MAE','MSE','RMSE'],index = ['Polynomial Features'])\n",
    "models2=Best_model.append(poly)\n",
    "models2"
   ]
  },
  {
   "cell_type": "markdown",
   "id": "8fea8127",
   "metadata": {},
   "source": [
    "Let's see which the best model?"
   ]
  },
  {
   "cell_type": "code",
   "execution_count": 1567,
   "id": "21ad4edc",
   "metadata": {
    "scrolled": true
   },
   "outputs": [
    {
     "data": {
      "text/html": [
       "<div>\n",
       "<style scoped>\n",
       "    .dataframe tbody tr th:only-of-type {\n",
       "        vertical-align: middle;\n",
       "    }\n",
       "\n",
       "    .dataframe tbody tr th {\n",
       "        vertical-align: top;\n",
       "    }\n",
       "\n",
       "    .dataframe thead th {\n",
       "        text-align: right;\n",
       "    }\n",
       "</style>\n",
       "<table border=\"1\" class=\"dataframe\">\n",
       "  <thead>\n",
       "    <tr style=\"text-align: right;\">\n",
       "      <th></th>\n",
       "      <th>R Squared</th>\n",
       "      <th>MAE</th>\n",
       "      <th>MSE</th>\n",
       "      <th>RMSE</th>\n",
       "    </tr>\n",
       "  </thead>\n",
       "  <tbody>\n",
       "    <tr>\n",
       "      <th>Linear Regression :M6</th>\n",
       "      <td>0.946808</td>\n",
       "      <td>0.529868</td>\n",
       "      <td>1.11075</td>\n",
       "      <td>1.053921</td>\n",
       "    </tr>\n",
       "  </tbody>\n",
       "</table>\n",
       "</div>"
      ],
      "text/plain": [
       "                       R Squared       MAE      MSE      RMSE\n",
       "Linear Regression :M6   0.946808  0.529868  1.11075  1.053921"
      ]
     },
     "execution_count": 1567,
     "metadata": {},
     "output_type": "execute_result"
    }
   ],
   "source": [
    "best2=[models2['R Squared'].max(),models2['MAE'].min(),models2['MSE'].min(),models2['RMSE'].min()]\n",
    "Best_model2=pd.DataFrame(data=[best2],columns=['R Squared','MAE','MSE','RMSE'],index=[models2['R Squared'].idxmax(axis = 0)])\n",
    "Best_model2"
   ]
  },
  {
   "cell_type": "markdown",
   "id": "6fca03bf",
   "metadata": {},
   "source": [
    "###### As shown the best model is model 6 which have All features (MIN , FGM , 3PM , FTM , FP) "
   ]
  },
  {
   "cell_type": "markdown",
   "id": "bae15e71",
   "metadata": {},
   "source": [
    "# Regularization"
   ]
  },
  {
   "cell_type": "code",
   "execution_count": 1568,
   "id": "a9681bd8",
   "metadata": {
    "scrolled": true
   },
   "outputs": [],
   "source": [
    "def Gsearch(model, X_t, y_t):\n",
    "    kf = KFold(n_splits=5, shuffle=True, random_state=0)\n",
    "    params = {\"alpha\": np.linspace(0, 1, num=100)}\n",
    "    GS = GridSearchCV(model, param_grid=params, cv=kf)\n",
    "    GS.fit(X_t, y_t);\n",
    "    return GS"
   ]
  },
  {
   "cell_type": "code",
   "execution_count": 1569,
   "id": "e3546342",
   "metadata": {
    "scrolled": true
   },
   "outputs": [],
   "source": [
    "def Lasso_(X_train, y_train, X_val, y_val):\n",
    "    #To find the best alpha for Lasso\n",
    "    L_GS = Gsearch(Lasso(), X_train, y_train)\n",
    "    b_alpha_L = L_GS.best_estimator_.alpha\n",
    "    #To create the model\n",
    "    model_L = Lasso(b_alpha_L)\n",
    "    #Fit the model to the training set\n",
    "    model_L.fit(X_train, y_train)\n",
    "    #Predict y on the validation set\n",
    "    y_pred_L = model_L.predict(X_val)\n",
    "    #To see the R sequare\n",
    "    r_squared_L = model_L.score(X_val, y_val)\n",
    "    #To see the MAE\n",
    "    MAE_L= metrics.mean_absolute_error(y_val, y_pred_L)\n",
    "    #To see the MSE\n",
    "    MSE_L = metrics.mean_squared_error(y_val, y_pred_L)\n",
    "    #To see the RMSE\n",
    "    RMSE_L = np.sqrt(MSE_L)\n",
    "    \n",
    "    return [r_squared_L, MAE_L, MSE_L, RMSE_L, b_alpha_L]"
   ]
  },
  {
   "cell_type": "code",
   "execution_count": 1570,
   "id": "c8bdeb13",
   "metadata": {
    "scrolled": true
   },
   "outputs": [],
   "source": [
    "def Ridge_(X_train, y_train, X_val, y_val):\n",
    "    #finding the best alpha for Ridge\n",
    "    R_GS = Gsearch(Ridge(), X_train, y_train)\n",
    "    b_alpha_R = R_GS.best_estimator_.alpha\n",
    "    #To create the model\n",
    "    model_R = Ridge(b_alpha_R)\n",
    "    #Fit the model to the training set\n",
    "    model_R.fit(X_train, y_train)\n",
    "    #Predict y on the validation set\n",
    "    y_pred_R = model_R.predict(X_val)\n",
    "    #To see the R sequare\n",
    "    r_squared_R = model_R.score(X_val, y_val)\n",
    "    #To see the MAE\n",
    "    MAE_R = metrics.mean_absolute_error(y_val, y_pred_R)\n",
    "    #To see the MSE\n",
    "    MSE_R = metrics.mean_squared_error(y_val, y_pred_R)\n",
    "    #To see the RMSE\n",
    "    RMSE_R = np.sqrt(MSE_R)\n",
    "    \n",
    "    return [r_squared_R, MAE_R, MSE_R, RMSE_R, b_alpha_R]"
   ]
  },
  {
   "cell_type": "code",
   "execution_count": 1571,
   "id": "a5f25ed9",
   "metadata": {
    "scrolled": false
   },
   "outputs": [
    {
     "name": "stderr",
     "output_type": "stream",
     "text": [
      "C:\\Users\\Rim24\\anaconda3\\lib\\site-packages\\sklearn\\model_selection\\_validation.py:593: UserWarning: With alpha=0, this algorithm does not converge well. You are advised to use the LinearRegression estimator\n",
      "  estimator.fit(X_train, y_train, **fit_params)\n",
      "C:\\Users\\Rim24\\anaconda3\\lib\\site-packages\\sklearn\\linear_model\\_coordinate_descent.py:530: UserWarning: Coordinate descent with no regularization may lead to unexpected results and is discouraged.\n",
      "  model = cd_fast.enet_coordinate_descent(\n",
      "C:\\Users\\Rim24\\anaconda3\\lib\\site-packages\\sklearn\\linear_model\\_coordinate_descent.py:530: ConvergenceWarning: Objective did not converge. You might want to increase the number of iterations. Duality gap: 51.900404718254485, tolerance: 0.5137072336309395\n",
      "  model = cd_fast.enet_coordinate_descent(\n",
      "C:\\Users\\Rim24\\anaconda3\\lib\\site-packages\\sklearn\\model_selection\\_validation.py:593: UserWarning: With alpha=0, this algorithm does not converge well. You are advised to use the LinearRegression estimator\n",
      "  estimator.fit(X_train, y_train, **fit_params)\n",
      "C:\\Users\\Rim24\\anaconda3\\lib\\site-packages\\sklearn\\linear_model\\_coordinate_descent.py:530: UserWarning: Coordinate descent with no regularization may lead to unexpected results and is discouraged.\n",
      "  model = cd_fast.enet_coordinate_descent(\n",
      "C:\\Users\\Rim24\\anaconda3\\lib\\site-packages\\sklearn\\linear_model\\_coordinate_descent.py:530: ConvergenceWarning: Objective did not converge. You might want to increase the number of iterations. Duality gap: 37.01132377708106, tolerance: 0.46657158256127934\n",
      "  model = cd_fast.enet_coordinate_descent(\n",
      "C:\\Users\\Rim24\\anaconda3\\lib\\site-packages\\sklearn\\model_selection\\_validation.py:593: UserWarning: With alpha=0, this algorithm does not converge well. You are advised to use the LinearRegression estimator\n",
      "  estimator.fit(X_train, y_train, **fit_params)\n",
      "C:\\Users\\Rim24\\anaconda3\\lib\\site-packages\\sklearn\\linear_model\\_coordinate_descent.py:530: UserWarning: Coordinate descent with no regularization may lead to unexpected results and is discouraged.\n",
      "  model = cd_fast.enet_coordinate_descent(\n",
      "C:\\Users\\Rim24\\anaconda3\\lib\\site-packages\\sklearn\\linear_model\\_coordinate_descent.py:530: ConvergenceWarning: Objective did not converge. You might want to increase the number of iterations. Duality gap: 49.76257700253849, tolerance: 0.510133754232108\n",
      "  model = cd_fast.enet_coordinate_descent(\n",
      "C:\\Users\\Rim24\\anaconda3\\lib\\site-packages\\sklearn\\model_selection\\_validation.py:593: UserWarning: With alpha=0, this algorithm does not converge well. You are advised to use the LinearRegression estimator\n",
      "  estimator.fit(X_train, y_train, **fit_params)\n",
      "C:\\Users\\Rim24\\anaconda3\\lib\\site-packages\\sklearn\\linear_model\\_coordinate_descent.py:530: UserWarning: Coordinate descent with no regularization may lead to unexpected results and is discouraged.\n",
      "  model = cd_fast.enet_coordinate_descent(\n",
      "C:\\Users\\Rim24\\anaconda3\\lib\\site-packages\\sklearn\\linear_model\\_coordinate_descent.py:530: ConvergenceWarning: Objective did not converge. You might want to increase the number of iterations. Duality gap: 43.92241167277768, tolerance: 0.5226094760936645\n",
      "  model = cd_fast.enet_coordinate_descent(\n",
      "C:\\Users\\Rim24\\anaconda3\\lib\\site-packages\\sklearn\\model_selection\\_validation.py:593: UserWarning: With alpha=0, this algorithm does not converge well. You are advised to use the LinearRegression estimator\n",
      "  estimator.fit(X_train, y_train, **fit_params)\n",
      "C:\\Users\\Rim24\\anaconda3\\lib\\site-packages\\sklearn\\linear_model\\_coordinate_descent.py:530: UserWarning: Coordinate descent with no regularization may lead to unexpected results and is discouraged.\n",
      "  model = cd_fast.enet_coordinate_descent(\n",
      "C:\\Users\\Rim24\\anaconda3\\lib\\site-packages\\sklearn\\linear_model\\_coordinate_descent.py:530: ConvergenceWarning: Objective did not converge. You might want to increase the number of iterations. Duality gap: 49.34271533726041, tolerance: 0.5145359101345497\n",
      "  model = cd_fast.enet_coordinate_descent(\n",
      "C:\\Users\\Rim24\\anaconda3\\lib\\site-packages\\sklearn\\model_selection\\_search.py:880: UserWarning: With alpha=0, this algorithm does not converge well. You are advised to use the LinearRegression estimator\n",
      "  self.best_estimator_.fit(X, y, **fit_params)\n",
      "C:\\Users\\Rim24\\anaconda3\\lib\\site-packages\\sklearn\\linear_model\\_coordinate_descent.py:530: UserWarning: Coordinate descent with no regularization may lead to unexpected results and is discouraged.\n",
      "  model = cd_fast.enet_coordinate_descent(\n",
      "C:\\Users\\Rim24\\anaconda3\\lib\\site-packages\\sklearn\\linear_model\\_coordinate_descent.py:530: ConvergenceWarning: Objective did not converge. You might want to increase the number of iterations. Duality gap: 58.27082952194996, tolerance: 0.6325744172965598\n",
      "  model = cd_fast.enet_coordinate_descent(\n",
      "<ipython-input-1569-4eec0cefe671>:8: UserWarning: With alpha=0, this algorithm does not converge well. You are advised to use the LinearRegression estimator\n",
      "  model_L.fit(X_train, y_train)\n",
      "C:\\Users\\Rim24\\anaconda3\\lib\\site-packages\\sklearn\\linear_model\\_coordinate_descent.py:530: UserWarning: Coordinate descent with no regularization may lead to unexpected results and is discouraged.\n",
      "  model = cd_fast.enet_coordinate_descent(\n",
      "C:\\Users\\Rim24\\anaconda3\\lib\\site-packages\\sklearn\\linear_model\\_coordinate_descent.py:530: ConvergenceWarning: Objective did not converge. You might want to increase the number of iterations. Duality gap: 58.27082952194996, tolerance: 0.6325744172965598\n",
      "  model = cd_fast.enet_coordinate_descent(\n"
     ]
    }
   ],
   "source": [
    "lasso = Lasso_(x_train, y_train, x_val, y_val)\n",
    "ridge = Ridge_(x_train, y_train, x_val, y_val)"
   ]
  },
  {
   "cell_type": "code",
   "execution_count": 1572,
   "id": "157af130",
   "metadata": {
    "scrolled": true
   },
   "outputs": [
    {
     "data": {
      "text/html": [
       "<div>\n",
       "<style scoped>\n",
       "    .dataframe tbody tr th:only-of-type {\n",
       "        vertical-align: middle;\n",
       "    }\n",
       "\n",
       "    .dataframe tbody tr th {\n",
       "        vertical-align: top;\n",
       "    }\n",
       "\n",
       "    .dataframe thead th {\n",
       "        text-align: right;\n",
       "    }\n",
       "</style>\n",
       "<table border=\"1\" class=\"dataframe\">\n",
       "  <thead>\n",
       "    <tr style=\"text-align: right;\">\n",
       "      <th></th>\n",
       "      <th>R Squared</th>\n",
       "      <th>MAE</th>\n",
       "      <th>MSE</th>\n",
       "      <th>RMSE</th>\n",
       "      <th>Best Alpha</th>\n",
       "    </tr>\n",
       "  </thead>\n",
       "  <tbody>\n",
       "    <tr>\n",
       "      <th>Lasso</th>\n",
       "      <td>0.946808</td>\n",
       "      <td>0.529868</td>\n",
       "      <td>1.110750</td>\n",
       "      <td>1.053921</td>\n",
       "      <td>0.000000</td>\n",
       "    </tr>\n",
       "    <tr>\n",
       "      <th>Ridge</th>\n",
       "      <td>0.946821</td>\n",
       "      <td>0.529685</td>\n",
       "      <td>1.110496</td>\n",
       "      <td>1.053801</td>\n",
       "      <td>0.060606</td>\n",
       "    </tr>\n",
       "  </tbody>\n",
       "</table>\n",
       "</div>"
      ],
      "text/plain": [
       "       R Squared       MAE       MSE      RMSE  Best Alpha\n",
       "Lasso   0.946808  0.529868  1.110750  1.053921    0.000000\n",
       "Ridge   0.946821  0.529685  1.110496  1.053801    0.060606"
      ]
     },
     "execution_count": 1572,
     "metadata": {},
     "output_type": "execute_result"
    }
   ],
   "source": [
    "regularization_results = pd.DataFrame(data = [lasso, ridge], columns=['R Squared','MAE','MSE','RMSE','Best Alpha'],index = ['Lasso', 'Ridge'])\n",
    "regularization_results"
   ]
  },
  {
   "cell_type": "markdown",
   "id": "77e6ae62",
   "metadata": {},
   "source": [
    "# Prediction"
   ]
  },
  {
   "cell_type": "markdown",
   "id": "c876bdf5",
   "metadata": {},
   "source": [
    "Now that we have trained our algorithm,and we know that the Model 6 is the best model. So it’s time to make some predictions. To do so, we will use our test data and see how accurately our algorithm predicts the percentage score. To make pre-dictions on the test data, execute the following script:"
   ]
  },
  {
   "cell_type": "code",
   "execution_count": 1573,
   "id": "7d9bc9eb",
   "metadata": {
    "scrolled": false
   },
   "outputs": [
    {
     "data": {
      "text/html": [
       "<div>\n",
       "<style scoped>\n",
       "    .dataframe tbody tr th:only-of-type {\n",
       "        vertical-align: middle;\n",
       "    }\n",
       "\n",
       "    .dataframe tbody tr th {\n",
       "        vertical-align: top;\n",
       "    }\n",
       "\n",
       "    .dataframe thead th {\n",
       "        text-align: right;\n",
       "    }\n",
       "</style>\n",
       "<table border=\"1\" class=\"dataframe\">\n",
       "  <thead>\n",
       "    <tr style=\"text-align: right;\">\n",
       "      <th></th>\n",
       "      <th>Actual</th>\n",
       "      <th>Predicted</th>\n",
       "    </tr>\n",
       "  </thead>\n",
       "  <tbody>\n",
       "    <tr>\n",
       "      <th>117</th>\n",
       "      <td>5.3</td>\n",
       "      <td>5.344501</td>\n",
       "    </tr>\n",
       "    <tr>\n",
       "      <th>132</th>\n",
       "      <td>3.8</td>\n",
       "      <td>3.881881</td>\n",
       "    </tr>\n",
       "    <tr>\n",
       "      <th>154</th>\n",
       "      <td>12.3</td>\n",
       "      <td>12.680631</td>\n",
       "    </tr>\n",
       "    <tr>\n",
       "      <th>245</th>\n",
       "      <td>7.4</td>\n",
       "      <td>7.381836</td>\n",
       "    </tr>\n",
       "    <tr>\n",
       "      <th>84</th>\n",
       "      <td>6.3</td>\n",
       "      <td>6.411974</td>\n",
       "    </tr>\n",
       "  </tbody>\n",
       "</table>\n",
       "</div>"
      ],
      "text/plain": [
       "     Actual  Predicted\n",
       "117     5.3   5.344501\n",
       "132     3.8   3.881881\n",
       "154    12.3  12.680631\n",
       "245     7.4   7.381836\n",
       "84      6.3   6.411974"
      ]
     },
     "execution_count": 1573,
     "metadata": {},
     "output_type": "execute_result"
    }
   ],
   "source": [
    "#To compare the actual output values for x_test with predicted values, execute the following script \n",
    "actual_VS_pred= pd.DataFrame()\n",
    "actual_VS_pred['Actual']=y_test['PTS']\n",
    "actual_VS_pred['Predicted']=model6[9]\n",
    "actual_VS_pred.head()\n",
    "#The output looks like that"
   ]
  },
  {
   "cell_type": "markdown",
   "id": "9542c1a9",
   "metadata": {},
   "source": [
    "Our model is very accurate ,the predicted value is close to the actual value."
   ]
  },
  {
   "cell_type": "code",
   "execution_count": 1574,
   "id": "683130cd",
   "metadata": {
    "scrolled": true
   },
   "outputs": [
    {
     "data": {
      "text/html": [
       "<div>\n",
       "<style scoped>\n",
       "    .dataframe tbody tr th:only-of-type {\n",
       "        vertical-align: middle;\n",
       "    }\n",
       "\n",
       "    .dataframe tbody tr th {\n",
       "        vertical-align: top;\n",
       "    }\n",
       "\n",
       "    .dataframe thead th {\n",
       "        text-align: right;\n",
       "    }\n",
       "</style>\n",
       "<table border=\"1\" class=\"dataframe\">\n",
       "  <thead>\n",
       "    <tr style=\"text-align: right;\">\n",
       "      <th></th>\n",
       "      <th>R Squared</th>\n",
       "      <th>MAE</th>\n",
       "      <th>MSE</th>\n",
       "      <th>RMSE</th>\n",
       "    </tr>\n",
       "  </thead>\n",
       "  <tbody>\n",
       "    <tr>\n",
       "      <th>Validaion result</th>\n",
       "      <td>0.946808</td>\n",
       "      <td>0.529868</td>\n",
       "      <td>1.110750</td>\n",
       "      <td>1.053921</td>\n",
       "    </tr>\n",
       "    <tr>\n",
       "      <th>Test result</th>\n",
       "      <td>0.909511</td>\n",
       "      <td>0.413878</td>\n",
       "      <td>1.860345</td>\n",
       "      <td>1.363945</td>\n",
       "    </tr>\n",
       "  </tbody>\n",
       "</table>\n",
       "</div>"
      ],
      "text/plain": [
       "                  R Squared       MAE       MSE      RMSE\n",
       "Validaion result   0.946808  0.529868  1.110750  1.053921\n",
       "Test result        0.909511  0.413878  1.860345  1.363945"
      ]
     },
     "execution_count": 1574,
     "metadata": {},
     "output_type": "execute_result"
    }
   ],
   "source": [
    "#To compare between the validation result & test result\n",
    "validation=[model6[0],model6[1],model6[2],model6[3]]\n",
    "test=[model6[5],model6[6],model6[7],model6[8]]\n",
    "test_VS_val= pd.DataFrame(data = [validation, test], columns=['R Squared','MAE','MSE','RMSE'],\n",
    "                 index = ['Validaion result', 'Test result'])\n",
    "test_VS_val"
   ]
  },
  {
   "cell_type": "markdown",
   "id": "98a023b7",
   "metadata": {},
   "source": [
    "- As the results demonstrated, the test result was very close to the validation result, implying that our model is very accurate on unseen data."
   ]
  },
  {
   "cell_type": "markdown",
   "id": "919bf13f",
   "metadata": {},
   "source": [
    "* To plot the test result:"
   ]
  },
  {
   "cell_type": "code",
   "execution_count": 1575,
   "id": "1a76004d",
   "metadata": {
    "scrolled": true
   },
   "outputs": [
    {
     "data": {
      "image/png": "[encoded data removed]",
      "text/plain": [
       "<Figure size 432x288 with 1 Axes>"
      ]
     },
     "metadata": {},
     "output_type": "display_data"
    }
   ],
   "source": [
    "sns.regplot(x=y_test,y=model6[9],ci=None,color='b');"
   ]
  },
  {
   "cell_type": "markdown",
   "id": "925f508f",
   "metadata": {},
   "source": [
    "# Classification"
   ]
  },
  {
   "cell_type": "code",
   "execution_count": 1576,
   "id": "4ff51670",
   "metadata": {
    "scrolled": true
   },
   "outputs": [],
   "source": [
    "#Read the CSV file\n",
    "df_class=pd.read_csv('Players_data.csv')"
   ]
  },
  {
   "cell_type": "code",
   "execution_count": 1577,
   "id": "64816eda",
   "metadata": {
    "scrolled": false
   },
   "outputs": [
    {
     "data": {
      "text/html": [
       "<div>\n",
       "<style scoped>\n",
       "    .dataframe tbody tr th:only-of-type {\n",
       "        vertical-align: middle;\n",
       "    }\n",
       "\n",
       "    .dataframe tbody tr th {\n",
       "        vertical-align: top;\n",
       "    }\n",
       "\n",
       "    .dataframe thead th {\n",
       "        text-align: right;\n",
       "    }\n",
       "</style>\n",
       "<table border=\"1\" class=\"dataframe\">\n",
       "  <thead>\n",
       "    <tr style=\"text-align: right;\">\n",
       "      <th></th>\n",
       "      <th>PLAYER</th>\n",
       "      <th>MIN</th>\n",
       "      <th>PTS</th>\n",
       "      <th>FGM</th>\n",
       "      <th>3PM</th>\n",
       "      <th>FTM</th>\n",
       "      <th>FP</th>\n",
       "    </tr>\n",
       "  </thead>\n",
       "  <tbody>\n",
       "    <tr>\n",
       "      <th>0</th>\n",
       "      <td>Ziaire Williams</td>\n",
       "      <td>22.8</td>\n",
       "      <td>8.2</td>\n",
       "      <td>2.6</td>\n",
       "      <td>0.6</td>\n",
       "      <td>2.4</td>\n",
       "      <td>15.7</td>\n",
       "    </tr>\n",
       "    <tr>\n",
       "      <th>1</th>\n",
       "      <td>Zeke Nnaji</td>\n",
       "      <td>14.3</td>\n",
       "      <td>3.6</td>\n",
       "      <td>1.4</td>\n",
       "      <td>0.6</td>\n",
       "      <td>0.2</td>\n",
       "      <td>10.2</td>\n",
       "    </tr>\n",
       "    <tr>\n",
       "      <th>2</th>\n",
       "      <td>Zach LaVine</td>\n",
       "      <td>29.0</td>\n",
       "      <td>22.5</td>\n",
       "      <td>7.8</td>\n",
       "      <td>2.8</td>\n",
       "      <td>4.3</td>\n",
       "      <td>33.8</td>\n",
       "    </tr>\n",
       "    <tr>\n",
       "      <th>3</th>\n",
       "      <td>Yves Pons</td>\n",
       "      <td>12.2</td>\n",
       "      <td>2.2</td>\n",
       "      <td>0.8</td>\n",
       "      <td>0.2</td>\n",
       "      <td>0.4</td>\n",
       "      <td>6.9</td>\n",
       "    </tr>\n",
       "    <tr>\n",
       "      <th>4</th>\n",
       "      <td>Yuta Watanabe</td>\n",
       "      <td>16.9</td>\n",
       "      <td>10.0</td>\n",
       "      <td>4.0</td>\n",
       "      <td>2.0</td>\n",
       "      <td>0.0</td>\n",
       "      <td>30.4</td>\n",
       "    </tr>\n",
       "  </tbody>\n",
       "</table>\n",
       "</div>"
      ],
      "text/plain": [
       "            PLAYER   MIN   PTS  FGM  3PM  FTM    FP\n",
       "0  Ziaire Williams  22.8   8.2  2.6  0.6  2.4  15.7\n",
       "1       Zeke Nnaji  14.3   3.6  1.4  0.6  0.2  10.2\n",
       "2      Zach LaVine  29.0  22.5  7.8  2.8  4.3  33.8\n",
       "3        Yves Pons  12.2   2.2  0.8  0.2  0.4   6.9\n",
       "4    Yuta Watanabe  16.9  10.0  4.0  2.0  0.0  30.4"
      ]
     },
     "execution_count": 1577,
     "metadata": {},
     "output_type": "execute_result"
    }
   ],
   "source": [
    "df_class.head()"
   ]
  },
  {
   "cell_type": "code",
   "execution_count": 1578,
   "id": "90e33ef1",
   "metadata": {
    "scrolled": true
   },
   "outputs": [
    {
     "data": {
      "text/html": [
       "<div>\n",
       "<style scoped>\n",
       "    .dataframe tbody tr th:only-of-type {\n",
       "        vertical-align: middle;\n",
       "    }\n",
       "\n",
       "    .dataframe tbody tr th {\n",
       "        vertical-align: top;\n",
       "    }\n",
       "\n",
       "    .dataframe thead th {\n",
       "        text-align: right;\n",
       "    }\n",
       "</style>\n",
       "<table border=\"1\" class=\"dataframe\">\n",
       "  <thead>\n",
       "    <tr style=\"text-align: right;\">\n",
       "      <th></th>\n",
       "      <th>MIN</th>\n",
       "      <th>PTS</th>\n",
       "      <th>FGM</th>\n",
       "      <th>3PM</th>\n",
       "      <th>FTM</th>\n",
       "      <th>FP</th>\n",
       "    </tr>\n",
       "  </thead>\n",
       "  <tbody>\n",
       "    <tr>\n",
       "      <th>count</th>\n",
       "      <td>536.000000</td>\n",
       "      <td>536.000000</td>\n",
       "      <td>536.000000</td>\n",
       "      <td>536.000000</td>\n",
       "      <td>536.000000</td>\n",
       "      <td>536.000000</td>\n",
       "    </tr>\n",
       "    <tr>\n",
       "      <th>mean</th>\n",
       "      <td>16.978358</td>\n",
       "      <td>7.646828</td>\n",
       "      <td>2.820522</td>\n",
       "      <td>0.909888</td>\n",
       "      <td>1.127612</td>\n",
       "      <td>16.069776</td>\n",
       "    </tr>\n",
       "    <tr>\n",
       "      <th>std</th>\n",
       "      <td>6.273971</td>\n",
       "      <td>4.807143</td>\n",
       "      <td>1.775437</td>\n",
       "      <td>0.915901</td>\n",
       "      <td>1.128999</td>\n",
       "      <td>8.295542</td>\n",
       "    </tr>\n",
       "    <tr>\n",
       "      <th>min</th>\n",
       "      <td>1.000000</td>\n",
       "      <td>0.000000</td>\n",
       "      <td>0.000000</td>\n",
       "      <td>0.000000</td>\n",
       "      <td>0.000000</td>\n",
       "      <td>-2.000000</td>\n",
       "    </tr>\n",
       "    <tr>\n",
       "      <th>25%</th>\n",
       "      <td>12.700000</td>\n",
       "      <td>4.000000</td>\n",
       "      <td>1.400000</td>\n",
       "      <td>0.000000</td>\n",
       "      <td>0.300000</td>\n",
       "      <td>9.775000</td>\n",
       "    </tr>\n",
       "    <tr>\n",
       "      <th>50%</th>\n",
       "      <td>17.800000</td>\n",
       "      <td>6.800000</td>\n",
       "      <td>2.500000</td>\n",
       "      <td>0.700000</td>\n",
       "      <td>1.000000</td>\n",
       "      <td>15.600000</td>\n",
       "    </tr>\n",
       "    <tr>\n",
       "      <th>75%</th>\n",
       "      <td>21.500000</td>\n",
       "      <td>10.800000</td>\n",
       "      <td>4.000000</td>\n",
       "      <td>1.300000</td>\n",
       "      <td>1.625000</td>\n",
       "      <td>21.800000</td>\n",
       "    </tr>\n",
       "    <tr>\n",
       "      <th>max</th>\n",
       "      <td>32.700000</td>\n",
       "      <td>25.000000</td>\n",
       "      <td>8.500000</td>\n",
       "      <td>4.300000</td>\n",
       "      <td>5.800000</td>\n",
       "      <td>43.600000</td>\n",
       "    </tr>\n",
       "  </tbody>\n",
       "</table>\n",
       "</div>"
      ],
      "text/plain": [
       "              MIN         PTS         FGM         3PM         FTM          FP\n",
       "count  536.000000  536.000000  536.000000  536.000000  536.000000  536.000000\n",
       "mean    16.978358    7.646828    2.820522    0.909888    1.127612   16.069776\n",
       "std      6.273971    4.807143    1.775437    0.915901    1.128999    8.295542\n",
       "min      1.000000    0.000000    0.000000    0.000000    0.000000   -2.000000\n",
       "25%     12.700000    4.000000    1.400000    0.000000    0.300000    9.775000\n",
       "50%     17.800000    6.800000    2.500000    0.700000    1.000000   15.600000\n",
       "75%     21.500000   10.800000    4.000000    1.300000    1.625000   21.800000\n",
       "max     32.700000   25.000000    8.500000    4.300000    5.800000   43.600000"
      ]
     },
     "execution_count": 1578,
     "metadata": {},
     "output_type": "execute_result"
    }
   ],
   "source": [
    "#To see statistical details of the dataset, we can use df.describe()\n",
    "df_class.describe()"
   ]
  },
  {
   "cell_type": "code",
   "execution_count": 1579,
   "id": "af4d03e6",
   "metadata": {
    "scrolled": true
   },
   "outputs": [
    {
     "data": {
      "text/plain": [
       "0    297\n",
       "1    239\n",
       "Name: PTS_class, dtype: int64"
      ]
     },
     "execution_count": 1579,
     "metadata": {},
     "output_type": "execute_result"
    }
   ],
   "source": [
    "#To create binary column for classification (Low (0) & High (1))\n",
    "df_class['PTS_class']=df_class.PTS.map(lambda x:0 if (x<=df_class.PTS.mean()) else 1 )\n",
    "df_class.PTS_class.value_counts()"
   ]
  },
  {
   "cell_type": "code",
   "execution_count": 1580,
   "id": "636cf30b",
   "metadata": {
    "scrolled": false
   },
   "outputs": [],
   "source": [
    "df_class['PTS_class_name']=df_class.PTS_class.map(lambda x:'Low' if (x==0) else 'High' )"
   ]
  },
  {
   "cell_type": "code",
   "execution_count": 1581,
   "id": "84752ab4",
   "metadata": {
    "scrolled": false
   },
   "outputs": [
    {
     "data": {
      "text/html": [
       "<div>\n",
       "<style scoped>\n",
       "    .dataframe tbody tr th:only-of-type {\n",
       "        vertical-align: middle;\n",
       "    }\n",
       "\n",
       "    .dataframe tbody tr th {\n",
       "        vertical-align: top;\n",
       "    }\n",
       "\n",
       "    .dataframe thead th {\n",
       "        text-align: right;\n",
       "    }\n",
       "</style>\n",
       "<table border=\"1\" class=\"dataframe\">\n",
       "  <thead>\n",
       "    <tr style=\"text-align: right;\">\n",
       "      <th></th>\n",
       "      <th>PLAYER</th>\n",
       "      <th>MIN</th>\n",
       "      <th>PTS</th>\n",
       "      <th>FGM</th>\n",
       "      <th>3PM</th>\n",
       "      <th>FTM</th>\n",
       "      <th>FP</th>\n",
       "      <th>PTS_class</th>\n",
       "      <th>PTS_class_name</th>\n",
       "    </tr>\n",
       "  </thead>\n",
       "  <tbody>\n",
       "    <tr>\n",
       "      <th>0</th>\n",
       "      <td>Ziaire Williams</td>\n",
       "      <td>22.8</td>\n",
       "      <td>8.2</td>\n",
       "      <td>2.6</td>\n",
       "      <td>0.6</td>\n",
       "      <td>2.4</td>\n",
       "      <td>15.7</td>\n",
       "      <td>1</td>\n",
       "      <td>High</td>\n",
       "    </tr>\n",
       "    <tr>\n",
       "      <th>1</th>\n",
       "      <td>Zeke Nnaji</td>\n",
       "      <td>14.3</td>\n",
       "      <td>3.6</td>\n",
       "      <td>1.4</td>\n",
       "      <td>0.6</td>\n",
       "      <td>0.2</td>\n",
       "      <td>10.2</td>\n",
       "      <td>0</td>\n",
       "      <td>Low</td>\n",
       "    </tr>\n",
       "    <tr>\n",
       "      <th>2</th>\n",
       "      <td>Zach LaVine</td>\n",
       "      <td>29.0</td>\n",
       "      <td>22.5</td>\n",
       "      <td>7.8</td>\n",
       "      <td>2.8</td>\n",
       "      <td>4.3</td>\n",
       "      <td>33.8</td>\n",
       "      <td>1</td>\n",
       "      <td>High</td>\n",
       "    </tr>\n",
       "    <tr>\n",
       "      <th>3</th>\n",
       "      <td>Yves Pons</td>\n",
       "      <td>12.2</td>\n",
       "      <td>2.2</td>\n",
       "      <td>0.8</td>\n",
       "      <td>0.2</td>\n",
       "      <td>0.4</td>\n",
       "      <td>6.9</td>\n",
       "      <td>0</td>\n",
       "      <td>Low</td>\n",
       "    </tr>\n",
       "    <tr>\n",
       "      <th>4</th>\n",
       "      <td>Yuta Watanabe</td>\n",
       "      <td>16.9</td>\n",
       "      <td>10.0</td>\n",
       "      <td>4.0</td>\n",
       "      <td>2.0</td>\n",
       "      <td>0.0</td>\n",
       "      <td>30.4</td>\n",
       "      <td>1</td>\n",
       "      <td>High</td>\n",
       "    </tr>\n",
       "  </tbody>\n",
       "</table>\n",
       "</div>"
      ],
      "text/plain": [
       "            PLAYER   MIN   PTS  FGM  3PM  FTM    FP  PTS_class PTS_class_name\n",
       "0  Ziaire Williams  22.8   8.2  2.6  0.6  2.4  15.7          1           High\n",
       "1       Zeke Nnaji  14.3   3.6  1.4  0.6  0.2  10.2          0            Low\n",
       "2      Zach LaVine  29.0  22.5  7.8  2.8  4.3  33.8          1           High\n",
       "3        Yves Pons  12.2   2.2  0.8  0.2  0.4   6.9          0            Low\n",
       "4    Yuta Watanabe  16.9  10.0  4.0  2.0  0.0  30.4          1           High"
      ]
     },
     "execution_count": 1581,
     "metadata": {},
     "output_type": "execute_result"
    }
   ],
   "source": [
    "#To display the first 5 rows :\n",
    "df_class.head()"
   ]
  },
  {
   "cell_type": "markdown",
   "id": "f5a0e963",
   "metadata": {},
   "source": [
    "As the first step, we split the data into two sets :\n",
    "\n",
    "- Training set.\n",
    "- Test set.\n",
    "\n",
    "let’s keep it simple and use a 80/20 rule. The input variables can be split like so:"
   ]
  },
  {
   "cell_type": "code",
   "execution_count": 1582,
   "id": "0425e7ca",
   "metadata": {
    "scrolled": true
   },
   "outputs": [],
   "source": [
    "train_set_class,test_set_class=train_test_split(df_class, train_size=0.8, random_state=42, shuffle=True)"
   ]
  },
  {
   "cell_type": "markdown",
   "id": "f4a30999",
   "metadata": {},
   "source": [
    "As the second step, we split the train set into two sets :\n",
    "\n",
    "- Train set.\n",
    "- Validation set."
   ]
  },
  {
   "cell_type": "code",
   "execution_count": 1583,
   "id": "f813e806",
   "metadata": {
    "scrolled": true
   },
   "outputs": [],
   "source": [
    "train_set_class,val_set_class=train_test_split(train_set_class, train_size=0.75, random_state=42, shuffle=True)"
   ]
  },
  {
   "cell_type": "markdown",
   "id": "7fcf0095",
   "metadata": {},
   "source": [
    "The next step is to divide the data into “attributes” and “target labels”. Attributes are independent variables, and target labels are dependent variables whose values ​​are to be predicted"
   ]
  },
  {
   "cell_type": "markdown",
   "id": "1a08e59c",
   "metadata": {},
   "source": [
    "- Train set :"
   ]
  },
  {
   "cell_type": "code",
   "execution_count": 1584,
   "id": "0c5c9c70",
   "metadata": {
    "scrolled": true
   },
   "outputs": [],
   "source": [
    "x_train_set_class=train_set_class[['MIN', 'PTS', 'FGM', '3PM', 'FTM', 'FP']]\n",
    "y_train_set_class=train_set_class[['PTS_class']]"
   ]
  },
  {
   "cell_type": "markdown",
   "id": "bb320fbb",
   "metadata": {},
   "source": [
    "- Validation set :"
   ]
  },
  {
   "cell_type": "code",
   "execution_count": 1585,
   "id": "73656918",
   "metadata": {
    "scrolled": true
   },
   "outputs": [],
   "source": [
    "x_val_set_class=val_set_class[['MIN', 'PTS', 'FGM', '3PM', 'FTM', 'FP']]\n",
    "y_val_set_class=val_set_class[['PTS_class']]"
   ]
  },
  {
   "cell_type": "markdown",
   "id": "a7866217",
   "metadata": {},
   "source": [
    "- Test set :"
   ]
  },
  {
   "cell_type": "code",
   "execution_count": 1586,
   "id": "427156b5",
   "metadata": {
    "scrolled": true
   },
   "outputs": [],
   "source": [
    "x_test_set_class=test_set_class[['MIN', 'PTS', 'FGM', '3PM', 'FTM', 'FP']]\n",
    "y_test_set_class=test_set_class[['PTS_class']]"
   ]
  },
  {
   "cell_type": "code",
   "execution_count": 1587,
   "id": "015a0b33",
   "metadata": {
    "scrolled": true
   },
   "outputs": [
    {
     "data": {
      "text/plain": [
       "(321, 1)"
      ]
     },
     "execution_count": 1587,
     "metadata": {},
     "output_type": "execute_result"
    }
   ],
   "source": [
    "y_train_set_class.shape"
   ]
  },
  {
   "cell_type": "code",
   "execution_count": 1588,
   "id": "d2cdc3d5",
   "metadata": {
    "scrolled": true
   },
   "outputs": [
    {
     "data": {
      "text/plain": [
       "(107, 6)"
      ]
     },
     "execution_count": 1588,
     "metadata": {},
     "output_type": "execute_result"
    }
   ],
   "source": [
    "x_val_set_class.shape"
   ]
  },
  {
   "cell_type": "code",
   "execution_count": 1589,
   "id": "7306c3f2",
   "metadata": {
    "scrolled": true
   },
   "outputs": [
    {
     "data": {
      "text/plain": [
       "(107, 1)"
      ]
     },
     "execution_count": 1589,
     "metadata": {},
     "output_type": "execute_result"
    }
   ],
   "source": [
    "y_val_set_class.shape"
   ]
  },
  {
   "cell_type": "code",
   "execution_count": 1590,
   "id": "4db463f8",
   "metadata": {
    "scrolled": true
   },
   "outputs": [
    {
     "data": {
      "text/plain": [
       "(321, 6)"
      ]
     },
     "execution_count": 1590,
     "metadata": {},
     "output_type": "execute_result"
    }
   ],
   "source": [
    "x_train_set_class.shape"
   ]
  },
  {
   "cell_type": "markdown",
   "id": "ab4f542c",
   "metadata": {},
   "source": [
    "This method is to create classification model:"
   ]
  },
  {
   "cell_type": "code",
   "execution_count": 1591,
   "id": "ce8675f7",
   "metadata": {
    "scrolled": true
   },
   "outputs": [],
   "source": [
    "def D_Tree(x_train_set_class, y_train_set_class, x_val_set_class, y_val_set_class,x_test_set_class,y_test_set_class, depth):\n",
    "    #Create the model\n",
    "    model_class = DecisionTreeClassifier(max_depth= depth)\n",
    "    model_class.fit(x_train_set_class, y_train_set_class)\n",
    "    #Predict y on the validation set\n",
    "    y_pred_class = model_class.predict(x_val_set_class)\n",
    "    #To see the results\n",
    "    results_class =  metrics.classification_report(y_val_set_class, y_pred_class, target_names=['0','1'], output_dict = True)\n",
    "    \n",
    "    #------------------------ For testing ---------------------------\n",
    "    \n",
    "    y_pred_class_test=model_class.predict(x_test_set_class)\n",
    "    results_class_test =metrics.classification_report(y_test_set_class, y_pred_class_test, target_names=['0','1'], output_dict = True)\n",
    "\n",
    "    return  [results_class['accuracy'], results_class['weighted avg']['precision'], \n",
    "             results_class['weighted avg']['recall'],y_pred_class_test,results_class_test]"
   ]
  },
  {
   "cell_type": "code",
   "execution_count": 1592,
   "id": "09582e45",
   "metadata": {
    "scrolled": true
   },
   "outputs": [],
   "source": [
    "depth = 2\n",
    "m1_class=D_Tree(x_train_set_class, y_train_set_class, x_val_set_class, y_val_set_class,x_test_set_class,y_test_set_class,depth)"
   ]
  },
  {
   "cell_type": "code",
   "execution_count": 1593,
   "id": "808d2871",
   "metadata": {
    "scrolled": true
   },
   "outputs": [
    {
     "data": {
      "text/html": [
       "<div>\n",
       "<style scoped>\n",
       "    .dataframe tbody tr th:only-of-type {\n",
       "        vertical-align: middle;\n",
       "    }\n",
       "\n",
       "    .dataframe tbody tr th {\n",
       "        vertical-align: top;\n",
       "    }\n",
       "\n",
       "    .dataframe thead th {\n",
       "        text-align: right;\n",
       "    }\n",
       "</style>\n",
       "<table border=\"1\" class=\"dataframe\">\n",
       "  <thead>\n",
       "    <tr style=\"text-align: right;\">\n",
       "      <th></th>\n",
       "      <th>Accuracy</th>\n",
       "      <th>Precision</th>\n",
       "      <th>Recall</th>\n",
       "    </tr>\n",
       "  </thead>\n",
       "  <tbody>\n",
       "    <tr>\n",
       "      <th>Decision Tree</th>\n",
       "      <td>1.0</td>\n",
       "      <td>1.0</td>\n",
       "      <td>1.0</td>\n",
       "    </tr>\n",
       "  </tbody>\n",
       "</table>\n",
       "</div>"
      ],
      "text/plain": [
       "               Accuracy  Precision  Recall\n",
       "Decision Tree       1.0        1.0     1.0"
      ]
     },
     "execution_count": 1593,
     "metadata": {},
     "output_type": "execute_result"
    }
   ],
   "source": [
    "#To see the result\n",
    "D_Tree_results = pd.DataFrame(data = [m1_class[:3]], columns=['Accuracy','Precision','Recall'],\n",
    "        index = ['Decision Tree'])\n",
    "D_Tree_results"
   ]
  },
  {
   "cell_type": "markdown",
   "id": "f86e740b",
   "metadata": {},
   "source": [
    "### Prediction"
   ]
  },
  {
   "cell_type": "markdown",
   "id": "6221033b",
   "metadata": {},
   "source": [
    "Now that we have trained our algorithm. So it’s time to make some predictions. To do so, we will use our test data and see how accurately our algorithm predicts the percentage score. To make pre-dictions on the test data, execute the following script:"
   ]
  },
  {
   "cell_type": "code",
   "execution_count": 1594,
   "id": "7614ed2e",
   "metadata": {
    "scrolled": false
   },
   "outputs": [
    {
     "data": {
      "text/html": [
       "<div>\n",
       "<style scoped>\n",
       "    .dataframe tbody tr th:only-of-type {\n",
       "        vertical-align: middle;\n",
       "    }\n",
       "\n",
       "    .dataframe tbody tr th {\n",
       "        vertical-align: top;\n",
       "    }\n",
       "\n",
       "    .dataframe thead th {\n",
       "        text-align: right;\n",
       "    }\n",
       "</style>\n",
       "<table border=\"1\" class=\"dataframe\">\n",
       "  <thead>\n",
       "    <tr style=\"text-align: right;\">\n",
       "      <th></th>\n",
       "      <th>Actual</th>\n",
       "      <th>Predicted</th>\n",
       "    </tr>\n",
       "  </thead>\n",
       "  <tbody>\n",
       "    <tr>\n",
       "      <th>117</th>\n",
       "      <td>0</td>\n",
       "      <td>0</td>\n",
       "    </tr>\n",
       "    <tr>\n",
       "      <th>132</th>\n",
       "      <td>0</td>\n",
       "      <td>0</td>\n",
       "    </tr>\n",
       "    <tr>\n",
       "      <th>154</th>\n",
       "      <td>1</td>\n",
       "      <td>1</td>\n",
       "    </tr>\n",
       "    <tr>\n",
       "      <th>245</th>\n",
       "      <td>0</td>\n",
       "      <td>0</td>\n",
       "    </tr>\n",
       "    <tr>\n",
       "      <th>84</th>\n",
       "      <td>0</td>\n",
       "      <td>0</td>\n",
       "    </tr>\n",
       "  </tbody>\n",
       "</table>\n",
       "</div>"
      ],
      "text/plain": [
       "     Actual  Predicted\n",
       "117       0          0\n",
       "132       0          0\n",
       "154       1          1\n",
       "245       0          0\n",
       "84        0          0"
      ]
     },
     "execution_count": 1594,
     "metadata": {},
     "output_type": "execute_result"
    }
   ],
   "source": [
    "#To compare the actual output values for x_test_set_class with predicted values, execute the following script \n",
    "actual_VS_pred_class= pd.DataFrame()\n",
    "actual_VS_pred_class['Actual']=y_test_set_class['PTS_class']\n",
    "actual_VS_pred_class['Predicted']=m1_class[3]\n",
    "actual_VS_pred_class.head()\n",
    "#The output looks like that"
   ]
  },
  {
   "cell_type": "markdown",
   "id": "2b10513b",
   "metadata": {},
   "source": [
    "Our model is very accurate ,the predicted value is same to the actual value."
   ]
  },
  {
   "cell_type": "code",
   "execution_count": 1595,
   "id": "2c1f31b4",
   "metadata": {
    "scrolled": false
   },
   "outputs": [
    {
     "data": {
      "text/html": [
       "<div>\n",
       "<style scoped>\n",
       "    .dataframe tbody tr th:only-of-type {\n",
       "        vertical-align: middle;\n",
       "    }\n",
       "\n",
       "    .dataframe tbody tr th {\n",
       "        vertical-align: top;\n",
       "    }\n",
       "\n",
       "    .dataframe thead th {\n",
       "        text-align: right;\n",
       "    }\n",
       "</style>\n",
       "<table border=\"1\" class=\"dataframe\">\n",
       "  <thead>\n",
       "    <tr style=\"text-align: right;\">\n",
       "      <th></th>\n",
       "      <th>Accuracy</th>\n",
       "      <th>Precision</th>\n",
       "      <th>Recall</th>\n",
       "    </tr>\n",
       "  </thead>\n",
       "  <tbody>\n",
       "    <tr>\n",
       "      <th>Validaion result</th>\n",
       "      <td>1.0</td>\n",
       "      <td>1.0</td>\n",
       "      <td>1.0</td>\n",
       "    </tr>\n",
       "    <tr>\n",
       "      <th>Test result</th>\n",
       "      <td>1.0</td>\n",
       "      <td>1.0</td>\n",
       "      <td>1.0</td>\n",
       "    </tr>\n",
       "  </tbody>\n",
       "</table>\n",
       "</div>"
      ],
      "text/plain": [
       "                  Accuracy  Precision  Recall\n",
       "Validaion result       1.0        1.0     1.0\n",
       "Test result            1.0        1.0     1.0"
      ]
     },
     "execution_count": 1595,
     "metadata": {},
     "output_type": "execute_result"
    }
   ],
   "source": [
    "#To compare between the validation result & test result\n",
    "validation_class=[m1_class[0],m1_class[1],m1_class[2]]\n",
    "tt=m1_class[4]\n",
    "t=[tt['accuracy'], tt['weighted avg']['precision'], tt['weighted avg']['recall']]\n",
    "test_class=[t[0],t[1],t[2]]\n",
    "test_VS_val_class= pd.DataFrame(data = [validation_class, test_class], columns=['Accuracy','Precision','Recall'],\n",
    "                 index = ['Validaion result', 'Test result'])\n",
    "test_VS_val_class"
   ]
  },
  {
   "cell_type": "markdown",
   "id": "50a87843",
   "metadata": {},
   "source": [
    "- As the results demonstrated, the test result was same the validation, implying that our model is very accurate on unseen data."
   ]
  },
  {
   "cell_type": "markdown",
   "id": "a397d29f",
   "metadata": {},
   "source": [
    "* To plot the test result:"
   ]
  },
  {
   "cell_type": "code",
   "execution_count": 1596,
   "id": "9296ca91",
   "metadata": {
    "scrolled": false
   },
   "outputs": [
    {
     "name": "stdout",
     "output_type": "stream",
     "text": [
      "Target variables  :  ['High' 'Low']\n",
      "Unique values of the target variable [0 1]\n",
      "Counts of the target variable : [297 239]\n"
     ]
    }
   ],
   "source": [
    "print('Target variables  : ', np.unique(df_class['PTS_class_name']))\n",
    "(unique, counts) = np.unique(df_class['PTS_class'], return_counts=True)\n",
    "print('Unique values of the target variable', unique)\n",
    "print('Counts of the target variable :', counts)\n",
    "cat=['High','Low']\n",
    "cot=[239,297]"
   ]
  },
  {
   "cell_type": "code",
   "execution_count": 1597,
   "id": "1667c0a9",
   "metadata": {
    "scrolled": false
   },
   "outputs": [
    {
     "data": {
      "image/png": "[encoded data removed]",
      "text/plain": [
       "<Figure size 432x288 with 1 Axes>"
      ]
     },
     "metadata": {},
     "output_type": "display_data"
    }
   ],
   "source": [
    "sns.barplot(x=cat,y=cot,palette=\"Blues_d\")\n",
    "plt.title('Target variable counts in the dataset')\n",
    "plt.show()"
   ]
  }
 ],
 "metadata": {
  "kernelspec": {
   "display_name": "Python 3",
   "language": "python",
   "name": "python3"
  },
  "language_info": {
   "codemirror_mode": {
    "name": "ipython",
    "version": 3
   },
   "file_extension": ".py",
   "mimetype": "text/x-python",
   "name": "python",
   "nbconvert_exporter": "python",
   "pygments_lexer": "ipython3",
   "version": "3.8.8"
  }
 },
 "nbformat": 4,
 "nbformat_minor": 5
}
